{
 "cells": [
  {
   "attachments": {},
   "cell_type": "markdown",
   "metadata": {},
   "source": [
    "# Simple Linear Regression Model"
   ]
  },
  {
   "cell_type": "code",
   "execution_count": 101,
   "metadata": {},
   "outputs": [],
   "source": [
    "import pandas as pd\n",
    "import numpy as np\n",
    "import matplotlib.pyplot as plt \n",
    "import seaborn as sns"
   ]
  },
  {
   "attachments": {},
   "cell_type": "markdown",
   "metadata": {},
   "source": [
    "## Objectives \n",
    "* Implement Linear Regression in SKLearn\n",
    "* Implemenent Linear Regression in Statsmodel\n",
    "* Discuss Model Evaluation in Linear Regression."
   ]
  },
  {
   "attachments": {},
   "cell_type": "markdown",
   "metadata": {},
   "source": [
    "## SKLearn Code;"
   ]
  },
  {
   "cell_type": "code",
   "execution_count": 102,
   "metadata": {},
   "outputs": [],
   "source": [
    "# load the library\n",
    "from sklearn.linear_model import LinearRegression"
   ]
  },
  {
   "cell_type": "code",
   "execution_count": 103,
   "metadata": {},
   "outputs": [
    {
     "data": {
      "text/html": [
       "<div>\n",
       "<style scoped>\n",
       "    .dataframe tbody tr th:only-of-type {\n",
       "        vertical-align: middle;\n",
       "    }\n",
       "\n",
       "    .dataframe tbody tr th {\n",
       "        vertical-align: top;\n",
       "    }\n",
       "\n",
       "    .dataframe thead th {\n",
       "        text-align: right;\n",
       "    }\n",
       "</style>\n",
       "<table border=\"1\" class=\"dataframe\">\n",
       "  <thead>\n",
       "    <tr style=\"text-align: right;\">\n",
       "      <th></th>\n",
       "      <th>X</th>\n",
       "      <th>Y</th>\n",
       "    </tr>\n",
       "  </thead>\n",
       "  <tbody>\n",
       "    <tr>\n",
       "      <th>0</th>\n",
       "      <td>0.496714</td>\n",
       "      <td>-0.421942</td>\n",
       "    </tr>\n",
       "    <tr>\n",
       "      <th>1</th>\n",
       "      <td>-0.138264</td>\n",
       "      <td>-0.697174</td>\n",
       "    </tr>\n",
       "    <tr>\n",
       "      <th>2</th>\n",
       "      <td>0.647689</td>\n",
       "      <td>0.952663</td>\n",
       "    </tr>\n",
       "    <tr>\n",
       "      <th>3</th>\n",
       "      <td>1.523030</td>\n",
       "      <td>2.243782</td>\n",
       "    </tr>\n",
       "    <tr>\n",
       "      <th>4</th>\n",
       "      <td>-0.234153</td>\n",
       "      <td>-0.629592</td>\n",
       "    </tr>\n",
       "  </tbody>\n",
       "</table>\n",
       "</div>"
      ],
      "text/plain": [
       "          X         Y\n",
       "0  0.496714 -0.421942\n",
       "1 -0.138264 -0.697174\n",
       "2  0.647689  0.952663\n",
       "3  1.523030  2.243782\n",
       "4 -0.234153 -0.629592"
      ]
     },
     "execution_count": 103,
     "metadata": {},
     "output_type": "execute_result"
    }
   ],
   "source": [
    "# load the data\n",
    "df = pd.read_csv(\"../data/dummy.csv\", index_col=0)\n",
    "df.head()"
   ]
  },
  {
   "cell_type": "code",
   "execution_count": 106,
   "metadata": {},
   "outputs": [],
   "source": [
    "# prepare data \n",
    "X = df[\"X\"]\n",
    "X = np.array(X).reshape(-1,1)\n",
    "y = df[\"Y\"]\n"
   ]
  },
  {
   "cell_type": "code",
   "execution_count": 107,
   "metadata": {},
   "outputs": [],
   "source": [
    "# create the model object\n",
    "lin_reg = LinearRegression()"
   ]
  },
  {
   "cell_type": "code",
   "execution_count": 110,
   "metadata": {},
   "outputs": [],
   "source": [
    "# fit the model to the data\n",
    "model = lin_reg.fit(X, y)"
   ]
  },
  {
   "cell_type": "code",
   "execution_count": 111,
   "metadata": {},
   "outputs": [
    {
     "data": {
      "text/plain": [
       "array([1.85674284])"
      ]
     },
     "execution_count": 111,
     "metadata": {},
     "output_type": "execute_result"
    }
   ],
   "source": [
    "# slope\n",
    "model.coef_"
   ]
  },
  {
   "cell_type": "code",
   "execution_count": 112,
   "metadata": {},
   "outputs": [
    {
     "data": {
      "text/plain": [
       "0.0074278298639669504"
      ]
     },
     "execution_count": 112,
     "metadata": {},
     "output_type": "execute_result"
    }
   ],
   "source": [
    "# y-intercept\n",
    "model.intercept_"
   ]
  },
  {
   "cell_type": "code",
   "execution_count": 113,
   "metadata": {},
   "outputs": [
    {
     "data": {
      "text/plain": [
       "{'copy_X': True,\n",
       " 'fit_intercept': True,\n",
       " 'n_jobs': None,\n",
       " 'normalize': 'deprecated',\n",
       " 'positive': False}"
      ]
     },
     "execution_count": 113,
     "metadata": {},
     "output_type": "execute_result"
    }
   ],
   "source": [
    "# get parameters for this estimator.\n",
    "model.get_params(deep=True)"
   ]
  },
  {
   "cell_type": "code",
   "execution_count": 114,
   "metadata": {},
   "outputs": [
    {
     "data": {
      "text/plain": [
       "array([1.21001974])"
      ]
     },
     "execution_count": 114,
     "metadata": {},
     "output_type": "execute_result"
    }
   ],
   "source": [
    "# predict using linear model\n",
    "# When X = 0.647689\t, Y = 0.952663\n",
    "value = 0.647689\n",
    "reshape_value = np.array(value).reshape(-1,1)\n",
    "model.predict(reshape_value)"
   ]
  },
  {
   "cell_type": "code",
   "execution_count": 115,
   "metadata": {},
   "outputs": [
    {
     "data": {
      "text/plain": [
       "0.7610892255181196"
      ]
     },
     "execution_count": 115,
     "metadata": {},
     "output_type": "execute_result"
    }
   ],
   "source": [
    "# coefficient of determination R^2 of the prediction\n",
    "model.score(X, y)"
   ]
  },
  {
   "attachments": {},
   "cell_type": "markdown",
   "metadata": {},
   "source": [
    "* Calculates how well the linear regression model fits the data, with 1.0 being a perfect fit and 0.0 indicating no linear relationship"
   ]
  },
  {
   "attachments": {},
   "cell_type": "markdown",
   "metadata": {},
   "source": [
    "## Statsmodel Code"
   ]
  },
  {
   "attachments": {},
   "cell_type": "markdown",
   "metadata": {},
   "source": [
    "### Using ```sm.OLS()```\n",
    "\n",
    "Used to perform linear regression by directly specifying the explanatory variables and the response variable as separate arrays.\n",
    "\n",
    "Allows for more fine-grained control over the model fiiting process, including specifying the intercept, regularization methods, and weighting schemes.\n",
    "\n",
    "Requires the user to manually add a constant term to the explanatory variables if needed.\n",
    "\n",
    "A constant represents the value of the dependent variable when all independent variables are equal to zero.\n",
    "Also helps in centering data, making the interpretation of the regression coefficients more meaningful."
   ]
  },
  {
   "cell_type": "code",
   "execution_count": 116,
   "metadata": {},
   "outputs": [],
   "source": [
    "# load the library\n",
    "import statsmodels.api as sm"
   ]
  },
  {
   "cell_type": "code",
   "execution_count": 117,
   "metadata": {},
   "outputs": [],
   "source": [
    "# load the data\n",
    "x = df[\"X\"]\n",
    "y = df[\"Y\"]"
   ]
  },
  {
   "cell_type": "code",
   "execution_count": 118,
   "metadata": {},
   "outputs": [],
   "source": [
    "# add constant to the model\n",
    "x = sm.add_constant(x)"
   ]
  },
  {
   "cell_type": "code",
   "execution_count": 120,
   "metadata": {},
   "outputs": [],
   "source": [
    "# create model object\n",
    "model = sm.OLS(y, x)"
   ]
  },
  {
   "cell_type": "code",
   "execution_count": 121,
   "metadata": {},
   "outputs": [],
   "source": [
    "# fit the model\n",
    "result = model.fit(method='pinv')"
   ]
  },
  {
   "cell_type": "code",
   "execution_count": 122,
   "metadata": {},
   "outputs": [
    {
     "data": {
      "text/html": [
       "<table class=\"simpletable\">\n",
       "<caption>OLS Regression Results</caption>\n",
       "<tr>\n",
       "  <th>Dep. Variable:</th>            <td>Y</td>        <th>  R-squared:         </th> <td>   0.761</td>\n",
       "</tr>\n",
       "<tr>\n",
       "  <th>Model:</th>                   <td>OLS</td>       <th>  Adj. R-squared:    </th> <td>   0.759</td>\n",
       "</tr>\n",
       "<tr>\n",
       "  <th>Method:</th>             <td>Least Squares</td>  <th>  F-statistic:       </th> <td>   312.2</td>\n",
       "</tr>\n",
       "<tr>\n",
       "  <th>Date:</th>             <td>Tue, 09 May 2023</td> <th>  Prob (F-statistic):</th> <td>3.14e-32</td>\n",
       "</tr>\n",
       "<tr>\n",
       "  <th>Time:</th>                 <td>11:37:12</td>     <th>  Log-Likelihood:    </th> <td> -135.71</td>\n",
       "</tr>\n",
       "<tr>\n",
       "  <th>No. Observations:</th>      <td>   100</td>      <th>  AIC:               </th> <td>   275.4</td>\n",
       "</tr>\n",
       "<tr>\n",
       "  <th>Df Residuals:</th>          <td>    98</td>      <th>  BIC:               </th> <td>   280.6</td>\n",
       "</tr>\n",
       "<tr>\n",
       "  <th>Df Model:</th>              <td>     1</td>      <th>                     </th>     <td> </td>   \n",
       "</tr>\n",
       "<tr>\n",
       "  <th>Covariance Type:</th>      <td>nonrobust</td>    <th>                     </th>     <td> </td>   \n",
       "</tr>\n",
       "</table>\n",
       "<table class=\"simpletable\">\n",
       "<tr>\n",
       "    <td></td>       <th>coef</th>     <th>std err</th>      <th>t</th>      <th>P>|t|</th>  <th>[0.025</th>    <th>0.975]</th>  \n",
       "</tr>\n",
       "<tr>\n",
       "  <th>const</th> <td>    0.0074</td> <td>    0.096</td> <td>    0.078</td> <td> 0.938</td> <td>   -0.182</td> <td>    0.197</td>\n",
       "</tr>\n",
       "<tr>\n",
       "  <th>X</th>     <td>    1.8567</td> <td>    0.105</td> <td>   17.669</td> <td> 0.000</td> <td>    1.648</td> <td>    2.065</td>\n",
       "</tr>\n",
       "</table>\n",
       "<table class=\"simpletable\">\n",
       "<tr>\n",
       "  <th>Omnibus:</th>       <td> 1.950</td> <th>  Durbin-Watson:     </th> <td>   2.194</td>\n",
       "</tr>\n",
       "<tr>\n",
       "  <th>Prob(Omnibus):</th> <td> 0.377</td> <th>  Jarque-Bera (JB):  </th> <td>   1.909</td>\n",
       "</tr>\n",
       "<tr>\n",
       "  <th>Skew:</th>          <td> 0.327</td> <th>  Prob(JB):          </th> <td>   0.385</td>\n",
       "</tr>\n",
       "<tr>\n",
       "  <th>Kurtosis:</th>      <td> 2.829</td> <th>  Cond. No.          </th> <td>    1.16</td>\n",
       "</tr>\n",
       "</table><br/><br/>Notes:<br/>[1] Standard Errors assume that the covariance matrix of the errors is correctly specified."
      ],
      "text/plain": [
       "<class 'statsmodels.iolib.summary.Summary'>\n",
       "\"\"\"\n",
       "                            OLS Regression Results                            \n",
       "==============================================================================\n",
       "Dep. Variable:                      Y   R-squared:                       0.761\n",
       "Model:                            OLS   Adj. R-squared:                  0.759\n",
       "Method:                 Least Squares   F-statistic:                     312.2\n",
       "Date:                Tue, 09 May 2023   Prob (F-statistic):           3.14e-32\n",
       "Time:                        11:37:12   Log-Likelihood:                -135.71\n",
       "No. Observations:                 100   AIC:                             275.4\n",
       "Df Residuals:                      98   BIC:                             280.6\n",
       "Df Model:                           1                                         \n",
       "Covariance Type:            nonrobust                                         \n",
       "==============================================================================\n",
       "                 coef    std err          t      P>|t|      [0.025      0.975]\n",
       "------------------------------------------------------------------------------\n",
       "const          0.0074      0.096      0.078      0.938      -0.182       0.197\n",
       "X              1.8567      0.105     17.669      0.000       1.648       2.065\n",
       "==============================================================================\n",
       "Omnibus:                        1.950   Durbin-Watson:                   2.194\n",
       "Prob(Omnibus):                  0.377   Jarque-Bera (JB):                1.909\n",
       "Skew:                           0.327   Prob(JB):                        0.385\n",
       "Kurtosis:                       2.829   Cond. No.                         1.16\n",
       "==============================================================================\n",
       "\n",
       "Notes:\n",
       "[1] Standard Errors assume that the covariance matrix of the errors is correctly specified.\n",
       "\"\"\""
      ]
     },
     "execution_count": 122,
     "metadata": {},
     "output_type": "execute_result"
    }
   ],
   "source": [
    "# print the summary output \n",
    "result.summary()"
   ]
  },
  {
   "cell_type": "code",
   "execution_count": 123,
   "metadata": {},
   "outputs": [
    {
     "data": {
      "text/plain": [
       "1.0"
      ]
     },
     "execution_count": 123,
     "metadata": {},
     "output_type": "execute_result"
    }
   ],
   "source": [
    "# get the degrees of freedom for the model\n",
    "df_model = result.df_model\n",
    "df_model"
   ]
  },
  {
   "cell_type": "code",
   "execution_count": 126,
   "metadata": {},
   "outputs": [
    {
     "data": {
      "text/plain": [
       "'Y'"
      ]
     },
     "execution_count": 126,
     "metadata": {},
     "output_type": "execute_result"
    }
   ],
   "source": [
    "# get the names of endogenous variables \n",
    "result.model.endog_names"
   ]
  },
  {
   "attachments": {},
   "cell_type": "markdown",
   "metadata": {},
   "source": [
    "### Using ```sm.formular.ols()```\n",
    "\n",
    "Used to perform linear regression by specifying the model formular using a string that looks like a mathematical equation.\n",
    "More concise and intuitive for users familiar with R or other statistical software.\n",
    "Automatically handles tasks like adding an intercept term to the model."
   ]
  },
  {
   "cell_type": "code",
   "execution_count": 127,
   "metadata": {},
   "outputs": [],
   "source": [
    "# load the library\n",
    "import statsmodels.api as sm"
   ]
  },
  {
   "cell_type": "code",
   "execution_count": 128,
   "metadata": {},
   "outputs": [
    {
     "data": {
      "text/html": [
       "<div>\n",
       "<style scoped>\n",
       "    .dataframe tbody tr th:only-of-type {\n",
       "        vertical-align: middle;\n",
       "    }\n",
       "\n",
       "    .dataframe tbody tr th {\n",
       "        vertical-align: top;\n",
       "    }\n",
       "\n",
       "    .dataframe thead th {\n",
       "        text-align: right;\n",
       "    }\n",
       "</style>\n",
       "<table border=\"1\" class=\"dataframe\">\n",
       "  <thead>\n",
       "    <tr style=\"text-align: right;\">\n",
       "      <th></th>\n",
       "      <th>X</th>\n",
       "      <th>Y</th>\n",
       "    </tr>\n",
       "  </thead>\n",
       "  <tbody>\n",
       "    <tr>\n",
       "      <th>0</th>\n",
       "      <td>0.496714</td>\n",
       "      <td>-0.421942</td>\n",
       "    </tr>\n",
       "    <tr>\n",
       "      <th>1</th>\n",
       "      <td>-0.138264</td>\n",
       "      <td>-0.697174</td>\n",
       "    </tr>\n",
       "    <tr>\n",
       "      <th>2</th>\n",
       "      <td>0.647689</td>\n",
       "      <td>0.952663</td>\n",
       "    </tr>\n",
       "    <tr>\n",
       "      <th>3</th>\n",
       "      <td>1.523030</td>\n",
       "      <td>2.243782</td>\n",
       "    </tr>\n",
       "    <tr>\n",
       "      <th>4</th>\n",
       "      <td>-0.234153</td>\n",
       "      <td>-0.629592</td>\n",
       "    </tr>\n",
       "  </tbody>\n",
       "</table>\n",
       "</div>"
      ],
      "text/plain": [
       "          X         Y\n",
       "0  0.496714 -0.421942\n",
       "1 -0.138264 -0.697174\n",
       "2  0.647689  0.952663\n",
       "3  1.523030  2.243782\n",
       "4 -0.234153 -0.629592"
      ]
     },
     "execution_count": 128,
     "metadata": {},
     "output_type": "execute_result"
    }
   ],
   "source": [
    "# no need to prepare data\n",
    "df.head()"
   ]
  },
  {
   "cell_type": "code",
   "execution_count": 129,
   "metadata": {},
   "outputs": [],
   "source": [
    "# create the model object\n",
    "model = sm.formula.ols(formula='Y ~ X', data=df)"
   ]
  },
  {
   "cell_type": "code",
   "execution_count": 130,
   "metadata": {},
   "outputs": [],
   "source": [
    "# fit the model\n",
    "reg_result = model.fit()"
   ]
  },
  {
   "cell_type": "code",
   "execution_count": 131,
   "metadata": {},
   "outputs": [
    {
     "data": {
      "text/html": [
       "<table class=\"simpletable\">\n",
       "<caption>OLS Regression Results</caption>\n",
       "<tr>\n",
       "  <th>Dep. Variable:</th>            <td>Y</td>        <th>  R-squared:         </th> <td>   0.761</td>\n",
       "</tr>\n",
       "<tr>\n",
       "  <th>Model:</th>                   <td>OLS</td>       <th>  Adj. R-squared:    </th> <td>   0.759</td>\n",
       "</tr>\n",
       "<tr>\n",
       "  <th>Method:</th>             <td>Least Squares</td>  <th>  F-statistic:       </th> <td>   312.2</td>\n",
       "</tr>\n",
       "<tr>\n",
       "  <th>Date:</th>             <td>Tue, 09 May 2023</td> <th>  Prob (F-statistic):</th> <td>3.14e-32</td>\n",
       "</tr>\n",
       "<tr>\n",
       "  <th>Time:</th>                 <td>11:40:19</td>     <th>  Log-Likelihood:    </th> <td> -135.71</td>\n",
       "</tr>\n",
       "<tr>\n",
       "  <th>No. Observations:</th>      <td>   100</td>      <th>  AIC:               </th> <td>   275.4</td>\n",
       "</tr>\n",
       "<tr>\n",
       "  <th>Df Residuals:</th>          <td>    98</td>      <th>  BIC:               </th> <td>   280.6</td>\n",
       "</tr>\n",
       "<tr>\n",
       "  <th>Df Model:</th>              <td>     1</td>      <th>                     </th>     <td> </td>   \n",
       "</tr>\n",
       "<tr>\n",
       "  <th>Covariance Type:</th>      <td>nonrobust</td>    <th>                     </th>     <td> </td>   \n",
       "</tr>\n",
       "</table>\n",
       "<table class=\"simpletable\">\n",
       "<tr>\n",
       "      <td></td>         <th>coef</th>     <th>std err</th>      <th>t</th>      <th>P>|t|</th>  <th>[0.025</th>    <th>0.975]</th>  \n",
       "</tr>\n",
       "<tr>\n",
       "  <th>Intercept</th> <td>    0.0074</td> <td>    0.096</td> <td>    0.078</td> <td> 0.938</td> <td>   -0.182</td> <td>    0.197</td>\n",
       "</tr>\n",
       "<tr>\n",
       "  <th>X</th>         <td>    1.8567</td> <td>    0.105</td> <td>   17.669</td> <td> 0.000</td> <td>    1.648</td> <td>    2.065</td>\n",
       "</tr>\n",
       "</table>\n",
       "<table class=\"simpletable\">\n",
       "<tr>\n",
       "  <th>Omnibus:</th>       <td> 1.950</td> <th>  Durbin-Watson:     </th> <td>   2.194</td>\n",
       "</tr>\n",
       "<tr>\n",
       "  <th>Prob(Omnibus):</th> <td> 0.377</td> <th>  Jarque-Bera (JB):  </th> <td>   1.909</td>\n",
       "</tr>\n",
       "<tr>\n",
       "  <th>Skew:</th>          <td> 0.327</td> <th>  Prob(JB):          </th> <td>   0.385</td>\n",
       "</tr>\n",
       "<tr>\n",
       "  <th>Kurtosis:</th>      <td> 2.829</td> <th>  Cond. No.          </th> <td>    1.16</td>\n",
       "</tr>\n",
       "</table><br/><br/>Notes:<br/>[1] Standard Errors assume that the covariance matrix of the errors is correctly specified."
      ],
      "text/plain": [
       "<class 'statsmodels.iolib.summary.Summary'>\n",
       "\"\"\"\n",
       "                            OLS Regression Results                            \n",
       "==============================================================================\n",
       "Dep. Variable:                      Y   R-squared:                       0.761\n",
       "Model:                            OLS   Adj. R-squared:                  0.759\n",
       "Method:                 Least Squares   F-statistic:                     312.2\n",
       "Date:                Tue, 09 May 2023   Prob (F-statistic):           3.14e-32\n",
       "Time:                        11:40:19   Log-Likelihood:                -135.71\n",
       "No. Observations:                 100   AIC:                             275.4\n",
       "Df Residuals:                      98   BIC:                             280.6\n",
       "Df Model:                           1                                         \n",
       "Covariance Type:            nonrobust                                         \n",
       "==============================================================================\n",
       "                 coef    std err          t      P>|t|      [0.025      0.975]\n",
       "------------------------------------------------------------------------------\n",
       "Intercept      0.0074      0.096      0.078      0.938      -0.182       0.197\n",
       "X              1.8567      0.105     17.669      0.000       1.648       2.065\n",
       "==============================================================================\n",
       "Omnibus:                        1.950   Durbin-Watson:                   2.194\n",
       "Prob(Omnibus):                  0.377   Jarque-Bera (JB):                1.909\n",
       "Skew:                           0.327   Prob(JB):                        0.385\n",
       "Kurtosis:                       2.829   Cond. No.                         1.16\n",
       "==============================================================================\n",
       "\n",
       "Notes:\n",
       "[1] Standard Errors assume that the covariance matrix of the errors is correctly specified.\n",
       "\"\"\""
      ]
     },
     "execution_count": 131,
     "metadata": {},
     "output_type": "execute_result"
    }
   ],
   "source": [
    "# print the summary output\n",
    "reg_result.summary()"
   ]
  },
  {
   "attachments": {},
   "cell_type": "markdown",
   "metadata": {},
   "source": [
    "## Model Evaluation "
   ]
  },
  {
   "attachments": {},
   "cell_type": "markdown",
   "metadata": {},
   "source": [
    "Assess the performance of the model and its ability to make accurate predictions. "
   ]
  },
  {
   "attachments": {},
   "cell_type": "markdown",
   "metadata": {},
   "source": [
    "### Mean Squared Error (MSE)"
   ]
  },
  {
   "attachments": {},
   "cell_type": "markdown",
   "metadata": {},
   "source": [
    "* Is a commonly used metric for evaluating the performance of a regression line by measuring how close a regression Line is to a set of data points. \n",
    "* Is the Mean or Average of the square of the difference between actual and predicted values.\n",
    "* Mathematically, the MSE is defined as;\n",
    "\n",
    ">>> $MSE = \\frac{1}{n} \\sum_{i=1}^{n} (y_1 - \\hat{y}_1)^2$\n",
    "\n",
    "Where \n",
    "* n - number of observations in the test dataset.\n",
    "* $y_1$ - the actual value of the dependent variable.\n",
    "* $\\hat{y}_1$ - the predicted value of the dependent variable."
   ]
  },
  {
   "cell_type": "code",
   "execution_count": 132,
   "metadata": {},
   "outputs": [
    {
     "data": {
      "text/html": [
       "<div>\n",
       "<style scoped>\n",
       "    .dataframe tbody tr th:only-of-type {\n",
       "        vertical-align: middle;\n",
       "    }\n",
       "\n",
       "    .dataframe tbody tr th {\n",
       "        vertical-align: top;\n",
       "    }\n",
       "\n",
       "    .dataframe thead th {\n",
       "        text-align: right;\n",
       "    }\n",
       "</style>\n",
       "<table border=\"1\" class=\"dataframe\">\n",
       "  <thead>\n",
       "    <tr style=\"text-align: right;\">\n",
       "      <th></th>\n",
       "      <th>X</th>\n",
       "      <th>Y</th>\n",
       "    </tr>\n",
       "  </thead>\n",
       "  <tbody>\n",
       "    <tr>\n",
       "      <th>0</th>\n",
       "      <td>0.496714</td>\n",
       "      <td>-0.421942</td>\n",
       "    </tr>\n",
       "    <tr>\n",
       "      <th>1</th>\n",
       "      <td>-0.138264</td>\n",
       "      <td>-0.697174</td>\n",
       "    </tr>\n",
       "    <tr>\n",
       "      <th>2</th>\n",
       "      <td>0.647689</td>\n",
       "      <td>0.952663</td>\n",
       "    </tr>\n",
       "    <tr>\n",
       "      <th>3</th>\n",
       "      <td>1.523030</td>\n",
       "      <td>2.243782</td>\n",
       "    </tr>\n",
       "    <tr>\n",
       "      <th>4</th>\n",
       "      <td>-0.234153</td>\n",
       "      <td>-0.629592</td>\n",
       "    </tr>\n",
       "  </tbody>\n",
       "</table>\n",
       "</div>"
      ],
      "text/plain": [
       "          X         Y\n",
       "0  0.496714 -0.421942\n",
       "1 -0.138264 -0.697174\n",
       "2  0.647689  0.952663\n",
       "3  1.523030  2.243782\n",
       "4 -0.234153 -0.629592"
      ]
     },
     "execution_count": 132,
     "metadata": {},
     "output_type": "execute_result"
    }
   ],
   "source": [
    "# load the data \n",
    "df.head()"
   ]
  },
  {
   "cell_type": "code",
   "execution_count": 133,
   "metadata": {},
   "outputs": [],
   "source": [
    "# prepare data \n",
    "X = df[\"X\"]\n",
    "X = np.array(X).reshape(-1,1)\n",
    "y = df[\"Y\"]"
   ]
  },
  {
   "cell_type": "code",
   "execution_count": 134,
   "metadata": {},
   "outputs": [],
   "source": [
    "# create the model object\n",
    "lin_reg = LinearRegression()"
   ]
  },
  {
   "cell_type": "code",
   "execution_count": 135,
   "metadata": {},
   "outputs": [],
   "source": [
    "# fit the model to the data\n",
    "model = lin_reg.fit(X, y)"
   ]
  },
  {
   "cell_type": "code",
   "execution_count": 136,
   "metadata": {},
   "outputs": [
    {
     "data": {
      "text/html": [
       "<div>\n",
       "<style scoped>\n",
       "    .dataframe tbody tr th:only-of-type {\n",
       "        vertical-align: middle;\n",
       "    }\n",
       "\n",
       "    .dataframe tbody tr th {\n",
       "        vertical-align: top;\n",
       "    }\n",
       "\n",
       "    .dataframe thead th {\n",
       "        text-align: right;\n",
       "    }\n",
       "</style>\n",
       "<table border=\"1\" class=\"dataframe\">\n",
       "  <thead>\n",
       "    <tr style=\"text-align: right;\">\n",
       "      <th></th>\n",
       "      <th>X</th>\n",
       "      <th>Y</th>\n",
       "      <th>predictions</th>\n",
       "    </tr>\n",
       "  </thead>\n",
       "  <tbody>\n",
       "    <tr>\n",
       "      <th>0</th>\n",
       "      <td>0.496714</td>\n",
       "      <td>-0.421942</td>\n",
       "      <td>0.929698</td>\n",
       "    </tr>\n",
       "    <tr>\n",
       "      <th>1</th>\n",
       "      <td>-0.138264</td>\n",
       "      <td>-0.697174</td>\n",
       "      <td>-0.249293</td>\n",
       "    </tr>\n",
       "    <tr>\n",
       "      <th>2</th>\n",
       "      <td>0.647689</td>\n",
       "      <td>0.952663</td>\n",
       "      <td>1.210019</td>\n",
       "    </tr>\n",
       "    <tr>\n",
       "      <th>3</th>\n",
       "      <td>1.523030</td>\n",
       "      <td>2.243782</td>\n",
       "      <td>2.835303</td>\n",
       "    </tr>\n",
       "    <tr>\n",
       "      <th>4</th>\n",
       "      <td>-0.234153</td>\n",
       "      <td>-0.629592</td>\n",
       "      <td>-0.427335</td>\n",
       "    </tr>\n",
       "  </tbody>\n",
       "</table>\n",
       "</div>"
      ],
      "text/plain": [
       "          X         Y  predictions\n",
       "0  0.496714 -0.421942     0.929698\n",
       "1 -0.138264 -0.697174    -0.249293\n",
       "2  0.647689  0.952663     1.210019\n",
       "3  1.523030  2.243782     2.835303\n",
       "4 -0.234153 -0.629592    -0.427335"
      ]
     },
     "execution_count": 136,
     "metadata": {},
     "output_type": "execute_result"
    }
   ],
   "source": [
    "# make predictions\n",
    "df[\"predictions\"] = model.predict(np.array(df[\"X\"]).reshape(-1,1))\n",
    "df.head()"
   ]
  },
  {
   "cell_type": "code",
   "execution_count": 137,
   "metadata": {},
   "outputs": [
    {
     "data": {
      "text/html": [
       "<div>\n",
       "<style scoped>\n",
       "    .dataframe tbody tr th:only-of-type {\n",
       "        vertical-align: middle;\n",
       "    }\n",
       "\n",
       "    .dataframe tbody tr th {\n",
       "        vertical-align: top;\n",
       "    }\n",
       "\n",
       "    .dataframe thead th {\n",
       "        text-align: right;\n",
       "    }\n",
       "</style>\n",
       "<table border=\"1\" class=\"dataframe\">\n",
       "  <thead>\n",
       "    <tr style=\"text-align: right;\">\n",
       "      <th></th>\n",
       "      <th>X</th>\n",
       "      <th>Y</th>\n",
       "      <th>predictions</th>\n",
       "      <th>residuals</th>\n",
       "    </tr>\n",
       "  </thead>\n",
       "  <tbody>\n",
       "    <tr>\n",
       "      <th>0</th>\n",
       "      <td>0.496714</td>\n",
       "      <td>-0.421942</td>\n",
       "      <td>0.929698</td>\n",
       "      <td>1.351641</td>\n",
       "    </tr>\n",
       "    <tr>\n",
       "      <th>1</th>\n",
       "      <td>-0.138264</td>\n",
       "      <td>-0.697174</td>\n",
       "      <td>-0.249293</td>\n",
       "      <td>0.447881</td>\n",
       "    </tr>\n",
       "    <tr>\n",
       "      <th>2</th>\n",
       "      <td>0.647689</td>\n",
       "      <td>0.952663</td>\n",
       "      <td>1.210019</td>\n",
       "      <td>0.257356</td>\n",
       "    </tr>\n",
       "    <tr>\n",
       "      <th>3</th>\n",
       "      <td>1.523030</td>\n",
       "      <td>2.243782</td>\n",
       "      <td>2.835303</td>\n",
       "      <td>0.591520</td>\n",
       "    </tr>\n",
       "    <tr>\n",
       "      <th>4</th>\n",
       "      <td>-0.234153</td>\n",
       "      <td>-0.629592</td>\n",
       "      <td>-0.427335</td>\n",
       "      <td>0.202258</td>\n",
       "    </tr>\n",
       "  </tbody>\n",
       "</table>\n",
       "</div>"
      ],
      "text/plain": [
       "          X         Y  predictions  residuals\n",
       "0  0.496714 -0.421942     0.929698   1.351641\n",
       "1 -0.138264 -0.697174    -0.249293   0.447881\n",
       "2  0.647689  0.952663     1.210019   0.257356\n",
       "3  1.523030  2.243782     2.835303   0.591520\n",
       "4 -0.234153 -0.629592    -0.427335   0.202258"
      ]
     },
     "execution_count": 137,
     "metadata": {},
     "output_type": "execute_result"
    }
   ],
   "source": [
    "# calculate the errors\n",
    "df[\"residuals\"] = df[\"predictions\"] - df[\"Y\"]\n",
    "df.head() "
   ]
  },
  {
   "cell_type": "code",
   "execution_count": 138,
   "metadata": {},
   "outputs": [
    {
     "data": {
      "text/html": [
       "<div>\n",
       "<style scoped>\n",
       "    .dataframe tbody tr th:only-of-type {\n",
       "        vertical-align: middle;\n",
       "    }\n",
       "\n",
       "    .dataframe tbody tr th {\n",
       "        vertical-align: top;\n",
       "    }\n",
       "\n",
       "    .dataframe thead th {\n",
       "        text-align: right;\n",
       "    }\n",
       "</style>\n",
       "<table border=\"1\" class=\"dataframe\">\n",
       "  <thead>\n",
       "    <tr style=\"text-align: right;\">\n",
       "      <th></th>\n",
       "      <th>X</th>\n",
       "      <th>Y</th>\n",
       "      <th>predictions</th>\n",
       "      <th>residuals</th>\n",
       "      <th>abs_errors</th>\n",
       "    </tr>\n",
       "  </thead>\n",
       "  <tbody>\n",
       "    <tr>\n",
       "      <th>0</th>\n",
       "      <td>0.496714</td>\n",
       "      <td>-0.421942</td>\n",
       "      <td>0.929698</td>\n",
       "      <td>1.351641</td>\n",
       "      <td>1.351641</td>\n",
       "    </tr>\n",
       "    <tr>\n",
       "      <th>1</th>\n",
       "      <td>-0.138264</td>\n",
       "      <td>-0.697174</td>\n",
       "      <td>-0.249293</td>\n",
       "      <td>0.447881</td>\n",
       "      <td>0.447881</td>\n",
       "    </tr>\n",
       "    <tr>\n",
       "      <th>2</th>\n",
       "      <td>0.647689</td>\n",
       "      <td>0.952663</td>\n",
       "      <td>1.210019</td>\n",
       "      <td>0.257356</td>\n",
       "      <td>0.257356</td>\n",
       "    </tr>\n",
       "    <tr>\n",
       "      <th>3</th>\n",
       "      <td>1.523030</td>\n",
       "      <td>2.243782</td>\n",
       "      <td>2.835303</td>\n",
       "      <td>0.591520</td>\n",
       "      <td>0.591520</td>\n",
       "    </tr>\n",
       "    <tr>\n",
       "      <th>4</th>\n",
       "      <td>-0.234153</td>\n",
       "      <td>-0.629592</td>\n",
       "      <td>-0.427335</td>\n",
       "      <td>0.202258</td>\n",
       "      <td>0.202258</td>\n",
       "    </tr>\n",
       "  </tbody>\n",
       "</table>\n",
       "</div>"
      ],
      "text/plain": [
       "          X         Y  predictions  residuals  abs_errors\n",
       "0  0.496714 -0.421942     0.929698   1.351641    1.351641\n",
       "1 -0.138264 -0.697174    -0.249293   0.447881    0.447881\n",
       "2  0.647689  0.952663     1.210019   0.257356    0.257356\n",
       "3  1.523030  2.243782     2.835303   0.591520    0.591520\n",
       "4 -0.234153 -0.629592    -0.427335   0.202258    0.202258"
      ]
     },
     "execution_count": 138,
     "metadata": {},
     "output_type": "execute_result"
    }
   ],
   "source": [
    "# get the absolute errors\n",
    "df[\"abs_errors\"] = df[\"residuals\"].apply(lambda x: abs(x))\n",
    "df.head()"
   ]
  },
  {
   "cell_type": "code",
   "execution_count": 139,
   "metadata": {},
   "outputs": [
    {
     "data": {
      "text/html": [
       "<div>\n",
       "<style scoped>\n",
       "    .dataframe tbody tr th:only-of-type {\n",
       "        vertical-align: middle;\n",
       "    }\n",
       "\n",
       "    .dataframe tbody tr th {\n",
       "        vertical-align: top;\n",
       "    }\n",
       "\n",
       "    .dataframe thead th {\n",
       "        text-align: right;\n",
       "    }\n",
       "</style>\n",
       "<table border=\"1\" class=\"dataframe\">\n",
       "  <thead>\n",
       "    <tr style=\"text-align: right;\">\n",
       "      <th></th>\n",
       "      <th>X</th>\n",
       "      <th>Y</th>\n",
       "      <th>predictions</th>\n",
       "      <th>residuals</th>\n",
       "      <th>abs_errors</th>\n",
       "      <th>sqr error</th>\n",
       "    </tr>\n",
       "  </thead>\n",
       "  <tbody>\n",
       "    <tr>\n",
       "      <th>0</th>\n",
       "      <td>0.496714</td>\n",
       "      <td>-0.421942</td>\n",
       "      <td>0.929698</td>\n",
       "      <td>1.351641</td>\n",
       "      <td>1.351641</td>\n",
       "      <td>1.826933</td>\n",
       "    </tr>\n",
       "    <tr>\n",
       "      <th>1</th>\n",
       "      <td>-0.138264</td>\n",
       "      <td>-0.697174</td>\n",
       "      <td>-0.249293</td>\n",
       "      <td>0.447881</td>\n",
       "      <td>0.447881</td>\n",
       "      <td>0.200597</td>\n",
       "    </tr>\n",
       "    <tr>\n",
       "      <th>2</th>\n",
       "      <td>0.647689</td>\n",
       "      <td>0.952663</td>\n",
       "      <td>1.210019</td>\n",
       "      <td>0.257356</td>\n",
       "      <td>0.257356</td>\n",
       "      <td>0.066232</td>\n",
       "    </tr>\n",
       "    <tr>\n",
       "      <th>3</th>\n",
       "      <td>1.523030</td>\n",
       "      <td>2.243782</td>\n",
       "      <td>2.835303</td>\n",
       "      <td>0.591520</td>\n",
       "      <td>0.591520</td>\n",
       "      <td>0.349896</td>\n",
       "    </tr>\n",
       "    <tr>\n",
       "      <th>4</th>\n",
       "      <td>-0.234153</td>\n",
       "      <td>-0.629592</td>\n",
       "      <td>-0.427335</td>\n",
       "      <td>0.202258</td>\n",
       "      <td>0.202258</td>\n",
       "      <td>0.040908</td>\n",
       "    </tr>\n",
       "  </tbody>\n",
       "</table>\n",
       "</div>"
      ],
      "text/plain": [
       "          X         Y  predictions  residuals  abs_errors  sqr error\n",
       "0  0.496714 -0.421942     0.929698   1.351641    1.351641   1.826933\n",
       "1 -0.138264 -0.697174    -0.249293   0.447881    0.447881   0.200597\n",
       "2  0.647689  0.952663     1.210019   0.257356    0.257356   0.066232\n",
       "3  1.523030  2.243782     2.835303   0.591520    0.591520   0.349896\n",
       "4 -0.234153 -0.629592    -0.427335   0.202258    0.202258   0.040908"
      ]
     },
     "execution_count": 139,
     "metadata": {},
     "output_type": "execute_result"
    }
   ],
   "source": [
    "# calculate the squared absolute error\n",
    "df[\"sqr error\"] = df[\"abs_errors\"].apply(lambda x: np.square(x))\n",
    "df.head()"
   ]
  },
  {
   "cell_type": "code",
   "execution_count": 140,
   "metadata": {},
   "outputs": [
    {
     "name": "stdout",
     "output_type": "stream",
     "text": [
      "The Mean Squarred Error: 0.8836\n"
     ]
    }
   ],
   "source": [
    "# calculate the mean squared error\n",
    "mse = np.mean(df[\"sqr error\"])\n",
    "print(f\"The Mean Squarred Error: {np.round(mse,4)}\")"
   ]
  },
  {
   "cell_type": "code",
   "execution_count": 141,
   "metadata": {},
   "outputs": [
    {
     "name": "stdout",
     "output_type": "stream",
     "text": [
      "The Mean Squarred Error: 0.8836\n"
     ]
    }
   ],
   "source": [
    "# using sklearn\n",
    "from sklearn.metrics import mean_squared_error\n",
    "\n",
    "mse = mean_squared_error(df[\"Y\"], df[\"predictions\"])\n",
    "print(f\"The Mean Squarred Error: {np.round(mse,4)}\")"
   ]
  },
  {
   "attachments": {},
   "cell_type": "markdown",
   "metadata": {},
   "source": [
    "The smaller the mean squared error, the closer you are to finding the line of best fit. \n",
    "\n",
    "Only a perfect model with no error produces an MSE of zero, and that doen't occur in practice(*Overfitting*).\n",
    "\n",
    "When the target variable is normally distributed, it is expected that the errors or residuals of the regression model will also follow a normal distribution. In such cases, using the mean squared error (MSE) as the loss function makes sense, as it measures the average of the squared errors, which is a measure of the distance between the predicted and actual values.\n",
    "\n",
    "MSE put more weight on larger errors than smaller ones, which is desirable in many cases, as we want to penalize the model more for large errors that can have a greater impact on the final result.\n",
    "\n",
    "If errors are not normally distributed, using the MSE may not be the best choice."
   ]
  },
  {
   "attachments": {},
   "cell_type": "markdown",
   "metadata": {},
   "source": [
    "### Root Mean Squared Error (RMSE)"
   ]
  },
  {
   "attachments": {},
   "cell_type": "markdown",
   "metadata": {},
   "source": [
    "* Is the standard deviation of the residuals.\n",
    "* Measure of how spread out the residuals are. \n",
    "* Similar to Mean Squared Error (MSE) but takes the Square root of the MSE to ensure that the RMSE is expressed in the same units as the response variable.\n",
    "* Penalizes larger errors more heavily than smaller ones\n",
    "* To calculate RMSE, first calculate the MSE and then take the Square Root of it. \n",
    "\n",
    ">>> $RMSE = \\sqrt{\\frac{1}{n} \\sum_{i=1}^{n} (y_1 - \\hat{y}_1)^2}$"
   ]
  },
  {
   "cell_type": "code",
   "execution_count": 142,
   "metadata": {},
   "outputs": [
    {
     "name": "stdout",
     "output_type": "stream",
     "text": [
      "The Root Mean Squarred Error: 0.94\n"
     ]
    }
   ],
   "source": [
    "# calculate the root mean squared error\n",
    "rmse = np.sqrt(np.mean(df[\"sqr error\"]))\n",
    "print(f\"The Root Mean Squarred Error: {np.round(rmse,4)}\")"
   ]
  },
  {
   "cell_type": "code",
   "execution_count": 143,
   "metadata": {},
   "outputs": [
    {
     "name": "stdout",
     "output_type": "stream",
     "text": [
      "The Mean Squarred Error: 0.94\n"
     ]
    }
   ],
   "source": [
    "# using Sklearn\n",
    "mse = mean_squared_error(df[\"Y\"], df[\"predictions\"])\n",
    "rmse = np.sqrt(mse)\n",
    "print(f\"The Mean Squarred Error: {np.round(rmse,4)}\")"
   ]
  },
  {
   "attachments": {},
   "cell_type": "markdown",
   "metadata": {},
   "source": [
    "### Adjusted $R^2$"
   ]
  },
  {
   "attachments": {},
   "cell_type": "markdown",
   "metadata": {},
   "source": [
    "* The coefficient of determination, R-squared, is a statistical measure that represents the proportion of the variance for a dependent variable that's explained by an independent variable or variables in a regression model.\n",
    "* Tells one how well the data fits the model(the goodness of fit)\n",
    "* Is a number between 0 and 1 that measures how well a statistical model predicts an outcome.\n",
    "\n",
    "|Coefficient of determination($R^2$)|Interpretation|\n",
    "|----------------------:|:--------------------:|\n",
    "|0                     |The model ```does not``` predict the outcome.|\n",
    "|Between 0 and 1     |The model ```partially``` predicts the outcome.|\n",
    "|1                     |The model ```perfectly``` predicts the outcome.|\n",
    "\n",
    "\n",
    "\n",
    ">>>$R^2 = 1 - \\frac{\\sum_{i=1}^{n}(y_i - \\hat{y}_i)^2}{\\sum_{i=1}^{n}(y_i - \\bar{y})^2}$\n",
    "\n",
    "where \n",
    "* $y_i$ is the actual value\n",
    "* $\\hat{y}_i$ is the predicted value\n",
    "* $\\bar{y}$ is the mean of the actual values\n",
    "* $n$ is the number of observations.\n"
   ]
  },
  {
   "cell_type": "code",
   "execution_count": 73,
   "metadata": {},
   "outputs": [
    {
     "data": {
      "text/html": [
       "<div>\n",
       "<style scoped>\n",
       "    .dataframe tbody tr th:only-of-type {\n",
       "        vertical-align: middle;\n",
       "    }\n",
       "\n",
       "    .dataframe tbody tr th {\n",
       "        vertical-align: top;\n",
       "    }\n",
       "\n",
       "    .dataframe thead th {\n",
       "        text-align: right;\n",
       "    }\n",
       "</style>\n",
       "<table border=\"1\" class=\"dataframe\">\n",
       "  <thead>\n",
       "    <tr style=\"text-align: right;\">\n",
       "      <th></th>\n",
       "      <th>X</th>\n",
       "      <th>Y</th>\n",
       "      <th>predictions</th>\n",
       "      <th>residuals</th>\n",
       "      <th>abs_errors</th>\n",
       "      <th>sqr error</th>\n",
       "    </tr>\n",
       "  </thead>\n",
       "  <tbody>\n",
       "    <tr>\n",
       "      <th>0</th>\n",
       "      <td>0.496714</td>\n",
       "      <td>-0.421942</td>\n",
       "      <td>0.929698</td>\n",
       "      <td>1.351641</td>\n",
       "      <td>1.351641</td>\n",
       "      <td>1.826933</td>\n",
       "    </tr>\n",
       "    <tr>\n",
       "      <th>1</th>\n",
       "      <td>-0.138264</td>\n",
       "      <td>-0.697174</td>\n",
       "      <td>-0.249293</td>\n",
       "      <td>0.447881</td>\n",
       "      <td>0.447881</td>\n",
       "      <td>0.200597</td>\n",
       "    </tr>\n",
       "    <tr>\n",
       "      <th>2</th>\n",
       "      <td>0.647689</td>\n",
       "      <td>0.952663</td>\n",
       "      <td>1.210019</td>\n",
       "      <td>0.257356</td>\n",
       "      <td>0.257356</td>\n",
       "      <td>0.066232</td>\n",
       "    </tr>\n",
       "    <tr>\n",
       "      <th>3</th>\n",
       "      <td>1.523030</td>\n",
       "      <td>2.243782</td>\n",
       "      <td>2.835303</td>\n",
       "      <td>0.591520</td>\n",
       "      <td>0.591520</td>\n",
       "      <td>0.349896</td>\n",
       "    </tr>\n",
       "    <tr>\n",
       "      <th>4</th>\n",
       "      <td>-0.234153</td>\n",
       "      <td>-0.629592</td>\n",
       "      <td>-0.427335</td>\n",
       "      <td>0.202258</td>\n",
       "      <td>0.202258</td>\n",
       "      <td>0.040908</td>\n",
       "    </tr>\n",
       "  </tbody>\n",
       "</table>\n",
       "</div>"
      ],
      "text/plain": [
       "          X         Y  predictions  residuals  abs_errors  sqr error\n",
       "0  0.496714 -0.421942     0.929698   1.351641    1.351641   1.826933\n",
       "1 -0.138264 -0.697174    -0.249293   0.447881    0.447881   0.200597\n",
       "2  0.647689  0.952663     1.210019   0.257356    0.257356   0.066232\n",
       "3  1.523030  2.243782     2.835303   0.591520    0.591520   0.349896\n",
       "4 -0.234153 -0.629592    -0.427335   0.202258    0.202258   0.040908"
      ]
     },
     "execution_count": 73,
     "metadata": {},
     "output_type": "execute_result"
    }
   ],
   "source": [
    "# preview the data \n",
    "df.head()"
   ]
  },
  {
   "cell_type": "code",
   "execution_count": 100,
   "metadata": {},
   "outputs": [
    {
     "data": {
      "image/png": "[encoded data removed]",
      "text/plain": [
       "<Figure size 720x576 with 1 Axes>"
      ]
     },
     "metadata": {
      "needs_background": "light"
     },
     "output_type": "display_data"
    }
   ],
   "source": [
    "# plot the data, line of best fit, and the residuals\n",
    "fig, ax = plt.subplots(figsize=(10,8))\n",
    "sns.lineplot(x=df[\"X\"], y=df[\"predictions\"], color=\"black\", ax=ax, label=\"Line of Best Fit\")\n",
    "sns.scatterplot(x=df[\"X\"], y=df[\"Y\"], color=\"orange\", ax=ax, label=\"Observations\")\n",
    "sns.scatterplot(x=df[\"X\"], y=df[\"residuals\"], color=\"blue\", ax=ax, label=\"Residual\")\n",
    "ax.legend(loc=\"upper right\")\n",
    "\n",
    "# calculate the R-Squared value and diplay it on the plot\n",
    "r_squared = model.score(np.array(df[\"X\"]).reshape(-1,1),y)\n",
    "ax.text(0.05, 0.95, f\"R-squared: {r_squared:.4f}\", transform=ax.transAxes, fontsize=16, va='top')\n",
    "\n",
    "ax.set_xlabel(\"Independent variable (X)\", fontsize=14)\n",
    "ax.set_ylabel(\"Dependent variable (Y)\", fontsize=14)\n",
    "ax.set_title(\"Linear Regression Model\", fontsize=16)\n",
    "\n",
    "plt.show()"
   ]
  },
  {
   "attachments": {},
   "cell_type": "markdown",
   "metadata": {},
   "source": [
    "### Other Regression Statistics\n",
    "\n"
   ]
  },
  {
   "attachments": {},
   "cell_type": "markdown",
   "metadata": {},
   "source": [
    "* **Adjusted R-squared** - Modified version of R-squared statistic that adjusts for the number of predictor variables in a regression model. \n",
    "\n",
    "Takes into account the number of independent variables used for predicting the target variable and by doing so, determine whether adding new variables to the model actually increases the model fit\n",
    "\n",
    "Measures how well the independent variables in a linear regression model explain the variablity in the dependent variable and it penalizes the use of unnecessary variables. \n",
    "\n",
    "Adjusted $R^2$ is always less than or equal to $R^2$ and a value of 1 indicates a model that perfectly predicts values in the target field while a value of zero indicates that has no predictive value.\n",
    "\n",
    ">>> $R_{adj}^2 = 1 - \\frac{(1 - R^2)(n-1)}{n-k-1}$\n",
    "\n",
    "where\n",
    "* $R_{adj}^2$ is the adjusted R-squared\n",
    "* $R^2$ is the original R-squared\n",
    "* $n$ is the sample size\n",
    "* $k$ is the number of predictors in the model."
   ]
  },
  {
   "attachments": {},
   "cell_type": "markdown",
   "metadata": {},
   "source": [
    "If a new variable is added to the model but it does not significantly improve the model's ability to explain the variation in the dependent variable, then the increase in R-squared will be small. Since Adjusted R-squared takes into account the number of variables in the model, it will not increase much either. In fact, if the new variable is not useful and adds unnecessary complexity to the model, Adjusted R-squared may actually decrease, indicating that the new variable has a negative impact on the model's performance.\n",
    "\n",
    "Clearly, it is better to use Adjusted R-squared when there are multiple variables in the regression model. This would allow us to compare models with differing numbers of independent variables."
   ]
  },
  {
   "attachments": {},
   "cell_type": "markdown",
   "metadata": {},
   "source": [
    "* **F-statistic** - Measure of the overall significance of the linear regression model. Compares the mean squared error of the regression model to the mean squarred error of the null hypothesis(model with no predictors i.e no correlation whatsover between the predictor and the target.)\n",
    "\n",
    "If Prob(F-statistic) is greater than 0.05, there is no evidence of relationship between any of the independent variable with the output. If it is less than 0.05, we can say that there is at least one variable which is significantly related with the output.\n",
    "\n",
    "However, there may be some cases when prob(F-statistic) may be greater than 0.05 but one of the independent variable shows strong correlation. This is because each t-test is carried out with different set of data whereas F-test checks the combined effect including all variables globally."
   ]
  },
  {
   "attachments": {},
   "cell_type": "markdown",
   "metadata": {},
   "source": [
    "* **Log-Likelihood** - Measure for fit of the model with the given data. It is useful when we compare two or more models. The higher the value of log-likelihood, the better the model fits the given data. It can range from negative infinity to positive infinity."
   ]
  },
  {
   "attachments": {},
   "cell_type": "markdown",
   "metadata": {},
   "source": [
    "* **Coef and std err** - The coef column represents the coefficients for each independent variable along with intercept value. Std err is the standard deviation of the corresponding variable’s coefficient across all the data points."
   ]
  },
  {
   "attachments": {},
   "cell_type": "markdown",
   "metadata": {},
   "source": [
    "* **t-values and P>|t|** - t-column provides the t-values corresponding to to each independent variables. T-statistics are used to calculate the p-values. Typically when p-value is less than 0.05, it indicates a strong evidence against null hypothesis which states that the corresponding independent variable has no effect on the dependent variable."
   ]
  },
  {
   "attachments": {},
   "cell_type": "markdown",
   "metadata": {},
   "source": [
    "* **Omnibus and Prob(Omnibus)** - Omnibus test checks the normality of the residuals once the model is deployed. If the value is zero, it means the residuals are perfectly normal.For a model to be robust, besides checking R-squared and other rubrics, the residual distribution is also required to be normal ideally. In other words, the residual should not follow any pattern when plotted against the fitted values."
   ]
  },
  {
   "attachments": {},
   "cell_type": "markdown",
   "metadata": {},
   "source": [
    "* **Durbin-Watson** - Durbin-Watson statistic provides a measure of autocorrelation in the residual. If the residual values are autocorrelated, the model becomes biased and it is not expected. This simply means that one value should not be depending on any of the previous values. An ideal value for this test ranges from 0 to 4."
   ]
  },
  {
   "attachments": {},
   "cell_type": "markdown",
   "metadata": {},
   "source": [
    "* **Jarque-Bera (JB) and Prob (JB)** - similar to Omni test measuring the normalcy of the residuals.\n"
   ]
  },
  {
   "attachments": {},
   "cell_type": "markdown",
   "metadata": {},
   "source": [
    "* **Condition Number** - The condition number tests for independence of the predictors. Lower scores are better. When the predictors are not independent, we can run into problems of multicollinearity. "
   ]
  }
 ],
 "metadata": {
  "kernelspec": {
   "display_name": "Python 3",
   "language": "python",
   "name": "python3"
  },
  "language_info": {
   "codemirror_mode": {
    "name": "ipython",
    "version": 3
   },
   "file_extension": ".py",
   "mimetype": "text/x-python",
   "name": "python",
   "nbconvert_exporter": "python",
   "pygments_lexer": "ipython3",
   "version": "3.10.10"
  },
  "orig_nbformat": 4
 },
 "nbformat": 4,
 "nbformat_minor": 2
}
