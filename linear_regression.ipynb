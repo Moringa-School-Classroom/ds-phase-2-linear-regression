{
 "cells": [
  {
   "attachments": {},
   "cell_type": "markdown",
   "metadata": {},
   "source": [
    "# Linear Regression"
   ]
  },
  {
   "attachments": {},
   "cell_type": "markdown",
   "metadata": {},
   "source": [
    "## Objectives"
   ]
  },
  {
   "attachments": {},
   "cell_type": "markdown",
   "metadata": {},
   "source": [
    "* Discuss the concepts of covariance and correlation.\n",
    "* Perform linear regression by hand using a dataset.\n",
    "* Understand the underlying principles of linear regression and how it works.\n",
    "* Describe the assumptions of linear regression."
   ]
  },
  {
   "cell_type": "code",
   "execution_count": 2,
   "metadata": {},
   "outputs": [],
   "source": [
    "import pandas as pd\n",
    "import numpy as np\n",
    "import seaborn as sns\n",
    "import matplotlib.pyplot as plt\n",
    "\n",
    "from scipy import stats\n",
    "import statsmodels.api as sm"
   ]
  },
  {
   "attachments": {},
   "cell_type": "markdown",
   "metadata": {},
   "source": [
    "## Covariance and Correlation"
   ]
  },
  {
   "attachments": {},
   "cell_type": "markdown",
   "metadata": {},
   "source": [
    "Generally, cities with higher population tend to have more buses required to ferry passengers from one point to the other in the city. The more the population, the more the number of buses required to ferry this people in and around the city. What do you think will happen in a city with less population?"
   ]
  },
  {
   "attachments": {},
   "cell_type": "markdown",
   "metadata": {},
   "source": [
    "### Covariance\n",
    "\n",
    "The concept of covariance describes to what extent one variable is related to another variable.\n",
    "\n",
    "Measures the joint variablity of two variables. \n",
    "\n",
    "Defines the changes between two variables such that change in one variable is equal to change in another variable. \n",
    "\n",
    "* Postive covariance - Both variable move in the same direction.\n",
    "* Negative Covariance - Both the variables moves in the opposite direction. \n",
    "\n",
    "**Sample Covariance Formula**\n",
    "\n",
    ">>>>>$cov(X, Y) = \\frac{\\sum\\limits_{i=1}^{n} (x_i - \\mu_x)(y_i - \\mu_y)}{n-1}$\n"
   ]
  },
  {
   "cell_type": "code",
   "execution_count": 3,
   "metadata": {},
   "outputs": [],
   "source": [
    "# example data \n",
    "m = np.array([1,2,3,4,5])\n",
    "n = np.array([3,5,7,9,11])"
   ]
  },
  {
   "cell_type": "code",
   "execution_count": 4,
   "metadata": {},
   "outputs": [
    {
     "name": "stdout",
     "output_type": "stream",
     "text": [
      "Covariance between x and y: 4.0\n"
     ]
    }
   ],
   "source": [
    "# covariance\n",
    "covariance = np.cov(m,n, ddof=0)[0, 1]\n",
    "\n",
    "print(f\"Covariance between x and y: {covariance}\")"
   ]
  },
  {
   "cell_type": "code",
   "execution_count": 5,
   "metadata": {},
   "outputs": [
    {
     "name": "stdout",
     "output_type": "stream",
     "text": [
      "[[2. 4.]\n",
      " [4. 8.]]\n"
     ]
    }
   ],
   "source": [
    "# returns a 2D array\n",
    "cov = np.cov(m,n,ddof=0)\n",
    "print(cov)"
   ]
  },
  {
   "cell_type": "code",
   "execution_count": 6,
   "metadata": {},
   "outputs": [
    {
     "data": {
      "text/plain": [
       "8.0"
      ]
     },
     "execution_count": 6,
     "metadata": {},
     "output_type": "execute_result"
    }
   ],
   "source": [
    "# compute the variance\n",
    "np.var(n)"
   ]
  },
  {
   "attachments": {},
   "cell_type": "markdown",
   "metadata": {},
   "source": [
    "The value of the covariance is very much a function of the values of X and Y, which can make interpretation difficult. What is required is a way to measure covariance using a *standardized scale*, which is why we use correlation"
   ]
  },
  {
   "attachments": {},
   "cell_type": "markdown",
   "metadata": {},
   "source": [
    "### Correlation\n",
    "\n",
    "The idea of correlation estimates the depth of the relationship between variables.\n",
    "\n",
    "It is a measure used to describe how strongly the given two random variables are related to each other.\n",
    "\n",
    "The correlation coefficient lies between ```-1 <= x => +1```(This was the point of standardizing covariance).\n",
    "\n",
    ">>>>$corr(X, Y) = cov(X, Y) / (sX * sY)$\n",
    "\n",
    "**Pearson Correlation**\n",
    "\n",
    "\n",
    ">>>>$\\Large r_P = \\frac{\\Sigma^n_{i=1}(x_i - \\mu_x)(y_i - \\mu_y)}{\\sqrt{\\Sigma^n_{i=1}(x_i - \\mu_x)^2\\Sigma^n_{i=1}(y_i - \\mu_y)^2}}$\n",
    "\n"
   ]
  },
  {
   "cell_type": "code",
   "execution_count": 7,
   "metadata": {},
   "outputs": [
    {
     "name": "stdout",
     "output_type": "stream",
     "text": [
      "Correlation between m and n: 0.9999999999999999\n"
     ]
    }
   ],
   "source": [
    "# calculating correlation using numpy \n",
    "correlation = np.corrcoef(m,n)[0,1]\n",
    "print(f\"Correlation between m and n: {correlation}\")"
   ]
  },
  {
   "cell_type": "code",
   "execution_count": 8,
   "metadata": {},
   "outputs": [
    {
     "data": {
      "text/plain": [
       "array([[1., 1.],\n",
       "       [1., 1.]])"
      ]
     },
     "execution_count": 8,
     "metadata": {},
     "output_type": "execute_result"
    }
   ],
   "source": [
    "# returns a matrix\n",
    "np.corrcoef(m,n)"
   ]
  },
  {
   "cell_type": "code",
   "execution_count": 9,
   "metadata": {},
   "outputs": [
    {
     "data": {
      "text/plain": [
       "True"
      ]
     },
     "execution_count": 9,
     "metadata": {},
     "output_type": "execute_result"
    }
   ],
   "source": [
    "# compare with the formular above\n",
    "np.round(np.corrcoef(m, n)[0, 1], 5) == np.round((np.cov(m, n, ddof=0) / (np.std(m) * np.std(n)))[0, 1],5)"
   ]
  },
  {
   "attachments": {},
   "cell_type": "markdown",
   "metadata": {},
   "source": [
    "Compute with scipy"
   ]
  },
  {
   "cell_type": "code",
   "execution_count": 10,
   "metadata": {},
   "outputs": [
    {
     "data": {
      "text/plain": [
       "1.0"
      ]
     },
     "execution_count": 10,
     "metadata": {},
     "output_type": "execute_result"
    }
   ],
   "source": [
    "stats.pearsonr(m,n)[0]"
   ]
  },
  {
   "attachments": {},
   "cell_type": "markdown",
   "metadata": {},
   "source": [
    "### Correlation is not Causation"
   ]
  },
  {
   "attachments": {},
   "cell_type": "markdown",
   "metadata": {},
   "source": [
    "Just because two variables are associated or appear to be related, it does not necessarily mean that one variable is causing the other.\n",
    "\n",
    "Correlation doesn't imply causality, as there could be other factors that are causing the observation.\n",
    "\n",
    "Consider the correlation between ice cream sales and crime rates. These two variables might be positively correlated, meaning that as ice cream sales increase, so do crime rates. However, it would be incorrect to conclude that ice cream sales cause crime. A more plausible explanation is that both variables are correlated with a third variable, such as temperature. As temperature increases, people tend to buy more ice cream, and there is also an increase in crime rates due to more people being outside and more opportunities for crime.\n",
    "\n",
    "When interpreting the results of a correlation analysis, it is important to exercise caution and avoid making casual inferences based solely on the correlation coefficient. "
   ]
  },
  {
   "attachments": {},
   "cell_type": "markdown",
   "metadata": {},
   "source": [
    "## Getting Started With Linear Regression"
   ]
  },
  {
   "attachments": {},
   "cell_type": "markdown",
   "metadata": {},
   "source": [
    "Suppose we want to predict the price of a house based on its size in square feet. We collect the following data:\n",
    "\n",
    "| Size (in square feet) | Price (in thousands of dollars) |\n",
    "|-----------------------|-----------------------|\n",
    "| 1000 | 150 |\n",
    "| 1500 | 200 |\n",
    "| 2000 | 250 |\n",
    "| 2500 | 300 |\n",
    "| 3000 | 350 |\n",
    "| 3500 | 400 |\n",
    "| 4000 | 450 |"
   ]
  },
  {
   "attachments": {},
   "cell_type": "markdown",
   "metadata": {},
   "source": [
    "* Dependent variable - Main factor we are trying to predict, ie the price of the house.\n",
    "* Independent varibale - The variable that have a relationship with the dependent variable, ie size. "
   ]
  },
  {
   "cell_type": "code",
   "execution_count": 11,
   "metadata": {},
   "outputs": [
    {
     "data": {
      "text/html": [
       "<div>\n",
       "<style scoped>\n",
       "    .dataframe tbody tr th:only-of-type {\n",
       "        vertical-align: middle;\n",
       "    }\n",
       "\n",
       "    .dataframe tbody tr th {\n",
       "        vertical-align: top;\n",
       "    }\n",
       "\n",
       "    .dataframe thead th {\n",
       "        text-align: right;\n",
       "    }\n",
       "</style>\n",
       "<table border=\"1\" class=\"dataframe\">\n",
       "  <thead>\n",
       "    <tr style=\"text-align: right;\">\n",
       "      <th></th>\n",
       "      <th>Size</th>\n",
       "      <th>Price</th>\n",
       "    </tr>\n",
       "  </thead>\n",
       "  <tbody>\n",
       "    <tr>\n",
       "      <th>0</th>\n",
       "      <td>1000</td>\n",
       "      <td>150</td>\n",
       "    </tr>\n",
       "    <tr>\n",
       "      <th>1</th>\n",
       "      <td>1500</td>\n",
       "      <td>200</td>\n",
       "    </tr>\n",
       "    <tr>\n",
       "      <th>2</th>\n",
       "      <td>2000</td>\n",
       "      <td>250</td>\n",
       "    </tr>\n",
       "    <tr>\n",
       "      <th>3</th>\n",
       "      <td>2500</td>\n",
       "      <td>300</td>\n",
       "    </tr>\n",
       "    <tr>\n",
       "      <th>4</th>\n",
       "      <td>3000</td>\n",
       "      <td>350</td>\n",
       "    </tr>\n",
       "  </tbody>\n",
       "</table>\n",
       "</div>"
      ],
      "text/plain": [
       "   Size  Price\n",
       "0  1000    150\n",
       "1  1500    200\n",
       "2  2000    250\n",
       "3  2500    300\n",
       "4  3000    350"
      ]
     },
     "execution_count": 11,
     "metadata": {},
     "output_type": "execute_result"
    }
   ],
   "source": [
    "data = {'Size': [1000, 1500, 2000, 2500, 3000, 3500, 4000],\n",
    "        'Price': [150, 200, 250, 300, 350, 400, 450]}\n",
    "\n",
    "df = pd.DataFrame(data)\n",
    "\n",
    "df.head()"
   ]
  },
  {
   "attachments": {},
   "cell_type": "markdown",
   "metadata": {},
   "source": [
    "## Linear Regression By Hand"
   ]
  },
  {
   "attachments": {},
   "cell_type": "markdown",
   "metadata": {},
   "source": [
    "### Hypothesis For regression \n",
    "\n",
    "* The null hypothesis $H_0$ is that the slope = 0.\n",
    "* General Equation od the line of best fit ```y = a + bx```.\n",
    "\n",
    ">>>>$b = \\frac{N(\\sum XY) - (\\sum X)(\\sum Y)}{N(\\sum X^2) - (\\sum X)^2}$"
   ]
  },
  {
   "cell_type": "code",
   "execution_count": 12,
   "metadata": {},
   "outputs": [
    {
     "data": {
      "text/html": [
       "<div>\n",
       "<style scoped>\n",
       "    .dataframe tbody tr th:only-of-type {\n",
       "        vertical-align: middle;\n",
       "    }\n",
       "\n",
       "    .dataframe tbody tr th {\n",
       "        vertical-align: top;\n",
       "    }\n",
       "\n",
       "    .dataframe thead th {\n",
       "        text-align: right;\n",
       "    }\n",
       "</style>\n",
       "<table border=\"1\" class=\"dataframe\">\n",
       "  <thead>\n",
       "    <tr style=\"text-align: right;\">\n",
       "      <th></th>\n",
       "      <th>Size</th>\n",
       "      <th>Price</th>\n",
       "      <th>XY</th>\n",
       "      <th>X^2</th>\n",
       "    </tr>\n",
       "  </thead>\n",
       "  <tbody>\n",
       "    <tr>\n",
       "      <th>0</th>\n",
       "      <td>1000</td>\n",
       "      <td>150</td>\n",
       "      <td>150000</td>\n",
       "      <td>1000000</td>\n",
       "    </tr>\n",
       "    <tr>\n",
       "      <th>1</th>\n",
       "      <td>1500</td>\n",
       "      <td>200</td>\n",
       "      <td>300000</td>\n",
       "      <td>2250000</td>\n",
       "    </tr>\n",
       "    <tr>\n",
       "      <th>2</th>\n",
       "      <td>2000</td>\n",
       "      <td>250</td>\n",
       "      <td>500000</td>\n",
       "      <td>4000000</td>\n",
       "    </tr>\n",
       "    <tr>\n",
       "      <th>3</th>\n",
       "      <td>2500</td>\n",
       "      <td>300</td>\n",
       "      <td>750000</td>\n",
       "      <td>6250000</td>\n",
       "    </tr>\n",
       "    <tr>\n",
       "      <th>4</th>\n",
       "      <td>3000</td>\n",
       "      <td>350</td>\n",
       "      <td>1050000</td>\n",
       "      <td>9000000</td>\n",
       "    </tr>\n",
       "  </tbody>\n",
       "</table>\n",
       "</div>"
      ],
      "text/plain": [
       "   Size  Price       XY      X^2\n",
       "0  1000    150   150000  1000000\n",
       "1  1500    200   300000  2250000\n",
       "2  2000    250   500000  4000000\n",
       "3  2500    300   750000  6250000\n",
       "4  3000    350  1050000  9000000"
      ]
     },
     "execution_count": 12,
     "metadata": {},
     "output_type": "execute_result"
    }
   ],
   "source": [
    "# create column XY by multiplying values of X and Y\n",
    "\n",
    "df[\"XY\"] = df.apply(lambda row: row[\"Size\"] * row[\"Price\"], axis=1)\n",
    "\n",
    "# create column X^2 \n",
    "\n",
    "df[\"X^2\"] = df.apply(lambda row: row[\"Size\"] ** 2, axis = 1)\n",
    "\n",
    "df.head()"
   ]
  },
  {
   "cell_type": "code",
   "execution_count": 13,
   "metadata": {},
   "outputs": [
    {
     "data": {
      "text/plain": [
       "0.1"
      ]
     },
     "execution_count": 13,
     "metadata": {},
     "output_type": "execute_result"
    }
   ],
   "source": [
    "# calculate slope \n",
    "\n",
    "def calculate_slope(X, y, data):\n",
    "    \"\"\"Simple function that calculates the slope\"\"\"\n",
    "    # length of the dataframe\n",
    "    n = len(data)\n",
    "\n",
    "    # create column XY by multiplying values of X and Y\n",
    "    data[\"XY\"] = data.apply(lambda row: row[X] * row[y], axis=1)\n",
    "\n",
    "    # summation of XY \n",
    "    sum_xy = data[\"XY\"].sum()\n",
    "\n",
    "    # summation of X\n",
    "    sum_x = data[X].sum()\n",
    "\n",
    "    # summation of Y\n",
    "    sum_y = data[y].sum()\n",
    "\n",
    "    # create column X^2 \n",
    "\n",
    "    data[\"X^2\"] = data.apply(lambda row: row[X] ** 2, axis = 1)\n",
    "\n",
    "    # summation of X^2 (summation of x*x)\n",
    "    sum_x_sqrd = data[\"X^2\"].sum()\n",
    "\n",
    "    # square of total x\n",
    "    sqr_total_x = np.square(sum_x)\n",
    "\n",
    "    b = ((n * sum_xy) - (sum_x)*(sum_y)) / ((n * sum_x_sqrd) - (sqr_total_x))\n",
    "\n",
    "    return b\n",
    "\n",
    "b = calculate_slope(\"Size\", \"Price\", df)\n",
    "b \n",
    "    "
   ]
  },
  {
   "attachments": {},
   "cell_type": "markdown",
   "metadata": {},
   "source": [
    "* calculate the value a by plugging in the avaegaes of X and Y \n",
    "\n",
    ">>>>$a = M_y - (b)(M_x)$"
   ]
  },
  {
   "cell_type": "code",
   "execution_count": 14,
   "metadata": {},
   "outputs": [
    {
     "data": {
      "text/plain": [
       "50.0"
      ]
     },
     "execution_count": 14,
     "metadata": {},
     "output_type": "execute_result"
    }
   ],
   "source": [
    "def calculate_intercept(X, y, data):\n",
    "    \"\"\"Simple function to calculate the value of the intercept\"\"\"\n",
    "\n",
    "    # calulcate the mean of X\n",
    "    x_mean = np.mean(data[X])\n",
    "\n",
    "    # calulcate the mean of y\n",
    "    y_mean = np.mean(data[y])\n",
    "\n",
    "    # get the value of B\n",
    "    b = calculate_slope(X, y, data)\n",
    "\n",
    "    a = y_mean - (b * x_mean)\n",
    "\n",
    "    return a \n",
    "\n",
    "a = calculate_intercept(\"Size\", \"Price\", df)\n",
    "a \n"
   ]
  },
  {
   "cell_type": "code",
   "execution_count": 15,
   "metadata": {},
   "outputs": [
    {
     "data": {
      "text/plain": [
       "90.0"
      ]
     },
     "execution_count": 15,
     "metadata": {},
     "output_type": "execute_result"
    }
   ],
   "source": [
    "# make predictions (y = a + bx)\n",
    "\n",
    "def get_user_input():\n",
    "    \"\"\"Simple function to get user input\"\"\"\n",
    "    X = int(input(\"Enter the Size of the house: \"))\n",
    "\n",
    "    return X\n",
    "\n",
    "def make_predictions(X, y, data):\n",
    "    \"\"\"Simple function to make predictions based on our data\"\"\" \n",
    "\n",
    "    # get the value of the slope, b\n",
    "    b = calculate_slope(X, y, data)\n",
    "\n",
    "    # get the value of the intercept, a \n",
    "    a = calculate_intercept(X, y, data)\n",
    "\n",
    "    # make prediction \n",
    "    x = get_user_input()\n",
    "    y = a + (b * x)\n",
    "\n",
    "    return y \n",
    "\n",
    "make_predictions(\"Size\", \"Price\", df)\n"
   ]
  },
  {
   "cell_type": "code",
   "execution_count": 16,
   "metadata": {},
   "outputs": [
    {
     "data": {
      "text/plain": [
       "300.0"
      ]
     },
     "execution_count": 16,
     "metadata": {},
     "output_type": "execute_result"
    }
   ],
   "source": [
    "# use the function to make predictions\n",
    "# where X = 2500, we expect 3000\n",
    "make_predictions(\"Size\", \"Price\", df)"
   ]
  },
  {
   "cell_type": "code",
   "execution_count": 17,
   "metadata": {},
   "outputs": [
    {
     "data": {
      "text/plain": [
       "450.0"
      ]
     },
     "execution_count": 17,
     "metadata": {},
     "output_type": "execute_result"
    }
   ],
   "source": [
    "# making predictions on unseen data\n",
    "# where X = 4000 \n",
    "make_predictions(\"Size\", \"Price\", df)"
   ]
  },
  {
   "attachments": {},
   "cell_type": "markdown",
   "metadata": {},
   "source": [
    "## Implementation in Python Using Principle of Least squares"
   ]
  },
  {
   "attachments": {},
   "cell_type": "markdown",
   "metadata": {},
   "source": [
    "* Tasked with finding the y-intercept and the slope where the residual error is minimum. "
   ]
  },
  {
   "cell_type": "code",
   "execution_count": 18,
   "metadata": {},
   "outputs": [
    {
     "data": {
      "text/plain": [
       "(0.1, 50.0)"
      ]
     },
     "execution_count": 18,
     "metadata": {},
     "output_type": "execute_result"
    }
   ],
   "source": [
    "def find_slope_intercept(X, y):\n",
    "    \"\"\"Simple function to get the intercept and slope\"\"\"\n",
    "    # number of observations\n",
    "    n = np.size(X)\n",
    "\n",
    "    # mean of X and y\n",
    "    x_mean = np.mean(X)\n",
    "    y_mean = np.mean(y)\n",
    "\n",
    "    # calculate the cross-deviation\n",
    "    SS_xy = np.sum(y*X) - (n * y_mean * x_mean)\n",
    "    # calculating the deviation about X\n",
    "    SS_xx = np.sum(X*X) - (n * x_mean * x_mean)\n",
    "\n",
    "    # calculate the regression coefficients \n",
    "    slope = SS_xy / SS_xx\n",
    "    intercept = y_mean - (slope * x_mean)\n",
    "\n",
    "    return (slope, intercept)\n",
    "\n",
    "find_slope_intercept(df[\"Size\"], df[\"Price\"])"
   ]
  },
  {
   "cell_type": "code",
   "execution_count": 19,
   "metadata": {},
   "outputs": [
    {
     "data": {
      "image/png": "[encoded data removed]",
      "text/plain": [
       "<Figure size 576x432 with 1 Axes>"
      ]
     },
     "metadata": {
      "needs_background": "light"
     },
     "output_type": "display_data"
    }
   ],
   "source": [
    "def plot_regression_line(X, y, b):\n",
    "    \"\"\"Simple function that draws the regression line\"\"\"\n",
    "    # plot using a scatter plot\n",
    "    fig, ax = plt.subplots(figsize=(8, 6))\n",
    "\n",
    "    plt.scatter(X, y, color = \"b\", s = 30)\n",
    "\n",
    "    # predict dependent variable \n",
    "    y_pred = b[1] + b[0] * X\n",
    "\n",
    "    # plot regression line\n",
    "    plt.plot(X, y_pred, color = 'g')\n",
    "\n",
    "    # lable \n",
    "    plt.xlabel(\"X\", fontsize = 12)\n",
    "    plt.ylabel(\"y\", fontsize = 12)\n",
    "\n",
    "    plt.show()\n",
    "\n",
    "b = find_slope_intercept(df[\"Size\"], df[\"Price\"])\n",
    "\n",
    "plot_regression_line(df[\"Size\"], df[\"Price\"], b)"
   ]
  },
  {
   "attachments": {},
   "cell_type": "markdown",
   "metadata": {},
   "source": [
    "## Assumptions of Before Linear Regression\n",
    "\n",
    "Let's explore the key assumptions of linear regression. These assumptions provide a solid foundation for the application of linear regression in statistical analysis. By understanding these assumptions, we can assess the **validity** and **reliability** of our results and make informed decisions based on the outcomes of our analysis."
   ]
  },
  {
   "attachments": {},
   "cell_type": "markdown",
   "metadata": {},
   "source": [
    "* The **indepedent varible** is on the $x$-axis.\n",
    "\n",
    "📝 While it is *common practice* to plot the independent variable on the X-axis in a linear regression, this is not an assumption of the model.\n",
    "\n",
    "* Identify and remove outliers\n",
    "\n",
    "<details>\n",
    "<summary>What's outliers got to do with linear regression?</summary>\n",
    "\n",
    "🥴 Outliers are data points that are significantly different from the other data points in the dataset. \n",
    "\n",
    "Outliers can \n",
    "* Bias the estimation of the regression coefficients and reduce the accuracy of the model. \n",
    "* Affect the normality assumption of the error term, which is one of the assumptions of linear regression. \n",
    "* Presence of outliers in the error term can lead to non-normality and *heteroscedasticity*, which can result in biased estimates and reduced accuracy of the model.\n",
    "* Have a significant impact on the prediction performance of the model. \n",
    "    1. In the predictor variables can lead to overfitting, where the model fits the training data too closely and performs poorly on new data. \n",
    "    2. In the response variable can lead to significant deviations from the predicted values, reducing the accuracy of the model."
   ]
  },
  {
   "attachments": {},
   "cell_type": "markdown",
   "metadata": {},
   "source": [
    "**Recap Ouliers**\n",
    "\n",
    "Let's imagine that we are quality control manager for a company that produces light bulbs. You collect data on the watts consumption by each bulb and you want to make sure that they are all as per the industry standard and regulations. \n",
    "\n",
    "![light_bulb](images/light_bulb.jpg) [photo](https://www.suck.uk.com/products/magic-filament-light-bulb/?start_gallery=1)\n",
    "\n",
    "*Find the Bulbs not required as per the Industry standard and regultions*."
   ]
  },
  {
   "cell_type": "code",
   "execution_count": 20,
   "metadata": {},
   "outputs": [],
   "source": [
    "# set the seed for the random number generator\n",
    "np.random.seed(42)\n",
    "# Generate random data column with mean of 50, standard deviation of 10 and 50 values\n",
    "data = np.random.normal(loc=50, scale=10, size=50)\n",
    "# add 5 outliers with values between 100 and 150 \n",
    "outliers_1 = np.random.uniform(low=100, high=150, size=5)\n",
    "# add 5 outliers with values between 0 and 5\n",
    "outliers_2 = np.random.uniform(low=0, high=5, size=5)\n",
    "\n",
    "# add the outliers to our data \n",
    "data = np.append(data, [outliers_1, outliers_2])\n",
    "\n",
    "watts = pd.Series(data)"
   ]
  },
  {
   "cell_type": "code",
   "execution_count": 21,
   "metadata": {},
   "outputs": [
    {
     "data": {
      "image/png": "[encoded data removed]",
      "text/plain": [
       "<Figure size 1008x576 with 2 Axes>"
      ]
     },
     "metadata": {
      "needs_background": "light"
     },
     "output_type": "display_data"
    }
   ],
   "source": [
    "# Visual inspection \n",
    "\n",
    "fig, ax =plt.subplots(nrows=1, ncols=2, figsize=(14,8))\n",
    "\n",
    "# using a histogram\n",
    "sns.histplot(watts, color = \"orange\", kde=True, ax=ax[0])\n",
    "ax[0].set_ylabel(\"Count\", fontsize=16)\n",
    "ax[0].set_xlabel(\"Bulb Watts\", fontsize=16)\n",
    "ax[0].set_title(\"Distribution of Light Bulb Watts\", fontsize=18)\n",
    "\n",
    "# using a boxplot\n",
    "sns.boxplot(x=watts, ax=ax[1])\n",
    "ax[1].set_ylabel(\"Count\", fontsize=16)\n",
    "ax[1].set_xlabel(\"Bulb Watts\", fontsize=16)\n",
    "ax[1].set_title(\"Boxplot of Light Bulbs Watts\", fontsize=18)\n",
    "\n",
    "fig.suptitle(\"Visualizations to Identify Outliers\", fontsize=20)\n",
    "\n",
    "plt.show()"
   ]
  },
  {
   "attachments": {},
   "cell_type": "markdown",
   "metadata": {},
   "source": [
    "* From the Histogram:\n",
    "    * There are bars to the left and right away from the cluster of bars.\n",
    "* From the Boxplot:\n",
    "    * Outliers are represented by points that are located outside the \"whiskers\" of the plot. \n",
    "\n",
    "Both show that out data has outliers, lets find those bulbs!!\n",
    "\n"
   ]
  },
  {
   "attachments": {},
   "cell_type": "markdown",
   "metadata": {},
   "source": [
    "**Step it up: Boxplots**\n"
   ]
  },
  {
   "cell_type": "code",
   "execution_count": 22,
   "metadata": {},
   "outputs": [
    {
     "data": {
      "text/plain": [
       "[{'mean': 50.63968406387039,\n",
       "  'iqr': 15.892072167274165,\n",
       "  'cilo': 44.43744576098044,\n",
       "  'cihi': 50.8796509222944,\n",
       "  'whishi': 68.52278184508938,\n",
       "  'whislo': 30.403298761202244,\n",
       "  'fliers': array([9.93578408e-01, 2.76105856e-02, 4.07730714e+00, 3.53428672e+00,\n",
       "         3.64503584e+00, 1.07046211e+02, 1.40109849e+02, 1.03727532e+02,\n",
       "         1.49344347e+02, 1.38612238e+02]),\n",
       "  'q1': 39.18968408927499,\n",
       "  'med': 47.65854834163742,\n",
       "  'q3': 55.081756256549156}]"
      ]
     },
     "execution_count": 22,
     "metadata": {},
     "output_type": "execute_result"
    }
   ],
   "source": [
    "# what is happening in this boxplots?\n",
    "from matplotlib.cbook import boxplot_stats\n",
    "\n",
    "stat = boxplot_stats(watts)\n",
    "stat"
   ]
  },
  {
   "attachments": {},
   "cell_type": "markdown",
   "metadata": {},
   "source": [
    "* ```mean```: Arithmetic mean or average of the data values within the boxplot.\n",
    "* ```iqr```: Measure of statistical dispersion.\n",
    "* ```cilo```: Lower bounds of the confidence interval for the median. \n",
    "* ```cihi```: Upper bounds of the confidence interval for the median. \n",
    "<details>\n",
    "<summary> More on Confidence intervals </summary>\n",
    "\n",
    "  📝 *Confidence interval* for the median is the range of values that the median is expected to fall within a specified level of confidence.\n",
    "\n",
    "  By default, boxplot_stats calculates the confidence interval using the interquartile range (IQR) and the number of observations. Specifically, the confidence interval for the median is calculated as:\n",
    "\n",
    "  ```[median - 1.57(IQR)/sqrt(n), median + 1.57(IQR)/sqrt(n)]```\n",
    "\n",
    "  where **median** is the sample median, **IQR** is the interquartile range, **n** is the number of observations, and **1.57** is a constant that corresponds to a 90% confidence interval. \n",
    "</details>\n",
    "\n",
    "* ```whishi```: Represent the upper bounds of the whiskers in a box plot.\n",
    "* ```whislo```: Represent the lower bounds of the whiskers in a box plot.\n",
    "\n",
    "<details>\n",
    "  <summary> Whiskers and Not Whiskey!! </summary>\n",
    "\n",
    "  These values are typically calculated as 1.5 times the interquartile range (IQR) above the third quartile (Q3) and below the first quartile (Q1), respectively. Values outside of these bounds are considered outliers and plotted as individual points on the plot.\n",
    "\n",
    "</details>\n",
    "\n",
    "* ```fliers```: Data points that are identified as potential outliers and lie beyond the whiskers of the box plot. \n",
    "* ```q1```:  First quartile. \n",
    "* ```med```: Median.\n",
    "* ```q3```: Third quartile."
   ]
  },
  {
   "attachments": {},
   "cell_type": "markdown",
   "metadata": {},
   "source": [
    "Using z-score to identify outliers (preferably when the data is normally distributed)\n",
    "\n",
    "```Z score = (x-mean) / std. deviation```\n",
    "\n",
    "A data point that has a z-score exceeding 3 signifies a significant deviation from the rest of the data and may potentially qualify as an outlier."
   ]
  },
  {
   "cell_type": "code",
   "execution_count": 23,
   "metadata": {},
   "outputs": [
    {
     "name": "stdout",
     "output_type": "stream",
     "text": [
      "mean of the data is: 50.6397\n",
      "standard deviaton of the data is: 28.225\n"
     ]
    }
   ],
   "source": [
    "# calculate the mean \n",
    "mean = np.mean(watts)\n",
    "# calculate standard deviation\n",
    "std_dev = np.std(watts)\n",
    "\n",
    "print(f'mean of the data is: {np.round(mean,4)}')\n",
    "print(f\"standard deviaton of the data is: {np.round(std_dev,4)}\")"
   ]
  },
  {
   "cell_type": "code",
   "execution_count": 24,
   "metadata": {},
   "outputs": [
    {
     "data": {
      "text/plain": [
       "[140.109849037702, 149.34434683002587, 138.61223846483287]"
      ]
     },
     "execution_count": 24,
     "metadata": {},
     "output_type": "execute_result"
    }
   ],
   "source": [
    "# calculate the z score\n",
    "threshold = 3\n",
    "# empty list to store outliers\n",
    "outliers = []\n",
    "# loop through the data series\n",
    "for x in watts:\n",
    "    z_score = ((x - mean)/std_dev)\n",
    "    if z_score > threshold:\n",
    "        outliers.append(x)\n",
    "    \n",
    "outliers"
   ]
  },
  {
   "cell_type": "code",
   "execution_count": 25,
   "metadata": {},
   "outputs": [
    {
     "name": "stdout",
     "output_type": "stream",
     "text": [
      "[140.109849037702, 149.34434683002587, 138.61223846483287]\n"
     ]
    }
   ],
   "source": [
    "# using scipy stats \n",
    "z = stats.zscore(watts)\n",
    "\n",
    "# define the threshold for identifying outliers\n",
    "threshold = 3\n",
    "\n",
    "# create a boolean mask indicating which values are outliers\n",
    "outliers = abs(z) > threshold\n",
    "\n",
    "# filter to extract only the rows with outliers\n",
    "outliers_df = watts[outliers]\n",
    "\n",
    "print(outliers_df.to_list())"
   ]
  },
  {
   "attachments": {},
   "cell_type": "markdown",
   "metadata": {},
   "source": [
    "As you notice, we did add 5 values above 100 but only 3 have been identified as outliers. \n",
    "\n",
    "Detecting outliers is a tidous process and you should persist as a coding wizard who never runs out of coffee!!😄\n",
    "\n",
    "Lets try using **IQR**."
   ]
  },
  {
   "cell_type": "code",
   "execution_count": 26,
   "metadata": {},
   "outputs": [
    {
     "data": {
      "text/plain": [
       "15.892072167274165"
      ]
     },
     "execution_count": 26,
     "metadata": {},
     "output_type": "execute_result"
    }
   ],
   "source": [
    "# calculate Q1 and Q3\n",
    "q3 = watts.quantile(0.75)\n",
    "q1 = watts.quantile(0.25)\n",
    "\n",
    "# calculate IQR\n",
    "iqr = q3 - q1\n",
    "iqr"
   ]
  },
  {
   "cell_type": "code",
   "execution_count": 27,
   "metadata": {},
   "outputs": [
    {
     "name": "stdout",
     "output_type": "stream",
     "text": [
      "[107.04621124873813, 140.109849037702, 103.72753218398854, 149.34434683002587, 138.61223846483287, 0.993578407670862, 0.027610585618011996, 4.0773071422741705, 3.534286719238086, 3.6450358402049368]\n"
     ]
    }
   ],
   "source": [
    "# Calculate the lower and upper bounds\n",
    "# using a dynamic multiplier instead of using a fixed multiplier eg 1.5\n",
    "lower_bound = q1 - (1.5 * iqr * (len(watts)/(len(watts) + 1)))\n",
    "upper_bound = q3 + (1.5 * iqr * (len(watts)/(len(watts) + 1)))\n",
    "\n",
    "# Identify the outliers\n",
    "outliers = watts[(watts < lower_bound) | (watts > upper_bound)]\n",
    "\n",
    "# Print the outliers\n",
    "print(outliers.to_list())"
   ]
  },
  {
   "cell_type": "code",
   "execution_count": 28,
   "metadata": {},
   "outputs": [
    {
     "data": {
      "text/plain": [
       "50"
      ]
     },
     "execution_count": 28,
     "metadata": {},
     "output_type": "execute_result"
    }
   ],
   "source": [
    "# remove outliers from the data using bitwsie NOT operator '~'\n",
    "watts = watts[~((watts < lower_bound) | (watts > upper_bound))]\n",
    "\n",
    "len(watts)"
   ]
  },
  {
   "attachments": {},
   "cell_type": "markdown",
   "metadata": {},
   "source": [
    "Now that we have that out of the way, we can look at the major assumptions of linear regression:\n",
    "\n",
    "1. **Linearity**: The relationship between the dependent and independent variable(s) should be linear. \n",
    "\n",
    "2. Both the independent and dependent variables must be **quantitative** at the scale level such as interval and nominal scale.\n",
    "\n",
    "<details>\n",
    "    <summary>Why?</summary>\n",
    "\n",
    "    Both the variables should be measured on a continuous scale. Linear regression assumes a linear relationship between the independent and dependent variables, and this assumptions only holds when both variables are measured on a quantitative scale. "
   ]
  },
  {
   "cell_type": "code",
   "execution_count": 29,
   "metadata": {},
   "outputs": [],
   "source": [
    "# lets demonstrate the two assumptions above using the following examples\n",
    "\n",
    "# generate random data with a linear relationship\n",
    "X = np.random.rand(100) # generate random numbers\n",
    "# y is generated as a linear function of X but with noise added using 'np.random.normal'\n",
    "# 2 >> Constant that determines the slope, can change to generate different slopes\n",
    "y = 5 * X + np.random.normal(size=100) "
   ]
  },
  {
   "cell_type": "code",
   "execution_count": 30,
   "metadata": {},
   "outputs": [
    {
     "data": {
      "image/png": "[encoded data removed]",
      "text/plain": [
       "<Figure size 648x504 with 1 Axes>"
      ]
     },
     "metadata": {
      "needs_background": "light"
     },
     "output_type": "display_data"
    }
   ],
   "source": [
    "# visualize using data \n",
    "fig, ax = plt.subplots(figsize=(9,7))\n",
    "\n",
    "sns.scatterplot(x=X, y=y, color=\"orange\", ax=ax)\n",
    "ax.set_ylabel(\"y\", fontsize=16)\n",
    "ax.set_xlabel(\"X\", fontsize=16)\n",
    "ax.set_title(\"Postive Linear Relationship\", fontsize=18)\n",
    "\n",
    "plt.show()"
   ]
  },
  {
   "attachments": {},
   "cell_type": "markdown",
   "metadata": {},
   "source": [
    "The graph above shows a **Positive** linear relationship between the variables ```X``` and ```y``` as an *increase* in x leads to an *increase* in y."
   ]
  },
  {
   "cell_type": "code",
   "execution_count": 31,
   "metadata": {},
   "outputs": [],
   "source": [
    "# Generate random data with negative linear relationship\n",
    "n = 70  # number of data points\n",
    "x = np.linspace(0, 10, n)  # independent variable\n",
    "y = -2 * x + np.random.normal(0, 2, n)  # dependent variable with negative linear relationship and some noise\n"
   ]
  },
  {
   "cell_type": "code",
   "execution_count": 32,
   "metadata": {},
   "outputs": [
    {
     "data": {
      "image/png": "[encoded data removed]",
      "text/plain": [
       "<Figure size 648x504 with 1 Axes>"
      ]
     },
     "metadata": {
      "needs_background": "light"
     },
     "output_type": "display_data"
    }
   ],
   "source": [
    "# visualize using data \n",
    "fig, ax = plt.subplots(figsize=(9,7))\n",
    "\n",
    "sns.scatterplot(x=x, y=y, color=\"orange\", ax=ax)\n",
    "ax.set_ylabel(\"y\", fontsize=16)\n",
    "ax.set_xlabel(\"X\", fontsize=16)\n",
    "ax.set_title(\"Negative Linear Relationship\", fontsize=18)\n",
    "\n",
    "plt.show()"
   ]
  },
  {
   "attachments": {},
   "cell_type": "markdown",
   "metadata": {},
   "source": [
    "The graph above shows a **Negative** linear relationship between the variables ```X``` and ```y``` as an *increase* in x leads to an *decrease* in y."
   ]
  },
  {
   "attachments": {},
   "cell_type": "markdown",
   "metadata": {},
   "source": [
    "## Assumptions After Linear Regression"
   ]
  },
  {
   "attachments": {},
   "cell_type": "markdown",
   "metadata": {},
   "source": [
    "3. **Normality**: The errors (also known as *residuals*) should be normally distributed. \n",
    "\n",
    "📝 Not necessarily the original data. \n",
    "\n",
    "*Residuals* are the differences between the observed values and the predicted values. A **normal probability plot**, also called Q-Q plot and statistical tests such as **Shapiro-Wilk** test and the **Kolmogorov-Smirnov** test can be used to assess whether residulas follow a normal distribution. \n",
    "\n",
    "If violated we may need to transform the response variable or use non-linear regressin model to account for the non-normal distribution of the residuals.\n",
    "\n",
    "If met, proceed with linear regression and interpret the results using statistical methods."
   ]
  },
  {
   "cell_type": "code",
   "execution_count": 33,
   "metadata": {},
   "outputs": [],
   "source": [
    "# generate some random data for demonstration purpose\n",
    "np.random.seed(42)\n",
    "n = 100\n",
    "x = np.random.normal(0,1,n)\n",
    "y = 2*x + np.random.normal(0,1,n)"
   ]
  },
  {
   "cell_type": "code",
   "execution_count": 34,
   "metadata": {},
   "outputs": [
    {
     "data": {
      "image/png": "[encoded data removed]",
      "text/plain": [
       "<Figure size 648x504 with 1 Axes>"
      ]
     },
     "metadata": {
      "needs_background": "light"
     },
     "output_type": "display_data"
    }
   ],
   "source": [
    "# visualize using data \n",
    "fig, ax = plt.subplots(figsize=(9,7))\n",
    "\n",
    "sns.scatterplot(x=x, y=y, color=\"orange\", ax=ax)\n",
    "ax.set_ylabel(\"y\", fontsize=16)\n",
    "ax.set_xlabel(\"x\", fontsize=16)\n",
    "ax.set_title(\"Relationship Between X and Y\", fontsize=18)\n",
    "\n",
    "plt.show()"
   ]
  },
  {
   "cell_type": "code",
   "execution_count": 35,
   "metadata": {},
   "outputs": [
    {
     "data": {
      "text/plain": [
       "100"
      ]
     },
     "execution_count": 35,
     "metadata": {},
     "output_type": "execute_result"
    }
   ],
   "source": [
    "# store in dataframe \n",
    "df = pd.DataFrame({\"X\":x, \"Y\":y})\n",
    "len(df)"
   ]
  },
  {
   "cell_type": "code",
   "execution_count": 36,
   "metadata": {},
   "outputs": [
    {
     "data": {
      "text/html": [
       "<div>\n",
       "<style scoped>\n",
       "    .dataframe tbody tr th:only-of-type {\n",
       "        vertical-align: middle;\n",
       "    }\n",
       "\n",
       "    .dataframe tbody tr th {\n",
       "        vertical-align: top;\n",
       "    }\n",
       "\n",
       "    .dataframe thead th {\n",
       "        text-align: right;\n",
       "    }\n",
       "</style>\n",
       "<table border=\"1\" class=\"dataframe\">\n",
       "  <thead>\n",
       "    <tr style=\"text-align: right;\">\n",
       "      <th></th>\n",
       "      <th>X</th>\n",
       "      <th>Y</th>\n",
       "      <th>Predicted</th>\n",
       "    </tr>\n",
       "  </thead>\n",
       "  <tbody>\n",
       "    <tr>\n",
       "      <th>0</th>\n",
       "      <td>0.496714</td>\n",
       "      <td>-0.421942</td>\n",
       "      <td>0.929698</td>\n",
       "    </tr>\n",
       "    <tr>\n",
       "      <th>1</th>\n",
       "      <td>-0.138264</td>\n",
       "      <td>-0.697174</td>\n",
       "      <td>-0.249293</td>\n",
       "    </tr>\n",
       "    <tr>\n",
       "      <th>2</th>\n",
       "      <td>0.647689</td>\n",
       "      <td>0.952663</td>\n",
       "      <td>1.210019</td>\n",
       "    </tr>\n",
       "    <tr>\n",
       "      <th>3</th>\n",
       "      <td>1.523030</td>\n",
       "      <td>2.243782</td>\n",
       "      <td>2.835303</td>\n",
       "    </tr>\n",
       "    <tr>\n",
       "      <th>4</th>\n",
       "      <td>-0.234153</td>\n",
       "      <td>-0.629592</td>\n",
       "      <td>-0.427335</td>\n",
       "    </tr>\n",
       "  </tbody>\n",
       "</table>\n",
       "</div>"
      ],
      "text/plain": [
       "          X         Y  Predicted\n",
       "0  0.496714 -0.421942   0.929698\n",
       "1 -0.138264 -0.697174  -0.249293\n",
       "2  0.647689  0.952663   1.210019\n",
       "3  1.523030  2.243782   2.835303\n",
       "4 -0.234153 -0.629592  -0.427335"
      ]
     },
     "execution_count": 36,
     "metadata": {},
     "output_type": "execute_result"
    }
   ],
   "source": [
    "# fit a linear regression model and make predictions\n",
    "model = np.polyfit(x, y, 1)\n",
    "df[\"Predicted\"] = np.polyval(model, x)\n",
    "df.head()"
   ]
  },
  {
   "cell_type": "code",
   "execution_count": 37,
   "metadata": {},
   "outputs": [
    {
     "data": {
      "text/html": [
       "<div>\n",
       "<style scoped>\n",
       "    .dataframe tbody tr th:only-of-type {\n",
       "        vertical-align: middle;\n",
       "    }\n",
       "\n",
       "    .dataframe tbody tr th {\n",
       "        vertical-align: top;\n",
       "    }\n",
       "\n",
       "    .dataframe thead th {\n",
       "        text-align: right;\n",
       "    }\n",
       "</style>\n",
       "<table border=\"1\" class=\"dataframe\">\n",
       "  <thead>\n",
       "    <tr style=\"text-align: right;\">\n",
       "      <th></th>\n",
       "      <th>X</th>\n",
       "      <th>Y</th>\n",
       "      <th>Predicted</th>\n",
       "      <th>residuals</th>\n",
       "    </tr>\n",
       "  </thead>\n",
       "  <tbody>\n",
       "    <tr>\n",
       "      <th>0</th>\n",
       "      <td>0.496714</td>\n",
       "      <td>-0.421942</td>\n",
       "      <td>0.929698</td>\n",
       "      <td>-1.351641</td>\n",
       "    </tr>\n",
       "    <tr>\n",
       "      <th>1</th>\n",
       "      <td>-0.138264</td>\n",
       "      <td>-0.697174</td>\n",
       "      <td>-0.249293</td>\n",
       "      <td>-0.447881</td>\n",
       "    </tr>\n",
       "    <tr>\n",
       "      <th>2</th>\n",
       "      <td>0.647689</td>\n",
       "      <td>0.952663</td>\n",
       "      <td>1.210019</td>\n",
       "      <td>-0.257356</td>\n",
       "    </tr>\n",
       "    <tr>\n",
       "      <th>3</th>\n",
       "      <td>1.523030</td>\n",
       "      <td>2.243782</td>\n",
       "      <td>2.835303</td>\n",
       "      <td>-0.591520</td>\n",
       "    </tr>\n",
       "    <tr>\n",
       "      <th>4</th>\n",
       "      <td>-0.234153</td>\n",
       "      <td>-0.629592</td>\n",
       "      <td>-0.427335</td>\n",
       "      <td>-0.202258</td>\n",
       "    </tr>\n",
       "  </tbody>\n",
       "</table>\n",
       "</div>"
      ],
      "text/plain": [
       "          X         Y  Predicted  residuals\n",
       "0  0.496714 -0.421942   0.929698  -1.351641\n",
       "1 -0.138264 -0.697174  -0.249293  -0.447881\n",
       "2  0.647689  0.952663   1.210019  -0.257356\n",
       "3  1.523030  2.243782   2.835303  -0.591520\n",
       "4 -0.234153 -0.629592  -0.427335  -0.202258"
      ]
     },
     "execution_count": 37,
     "metadata": {},
     "output_type": "execute_result"
    }
   ],
   "source": [
    "# calculate the residuals and test for normality\n",
    "df[\"residuals\"] = df[\"Y\"] - df[\"Predicted\"]\n",
    "df.head()"
   ]
  },
  {
   "attachments": {},
   "cell_type": "markdown",
   "metadata": {},
   "source": [
    "* Using visualization\n",
    " \n",
    "We can use a histogram or normality plot to test if the residuals are normaly distributed."
   ]
  },
  {
   "cell_type": "code",
   "execution_count": 38,
   "metadata": {},
   "outputs": [
    {
     "data": {
      "image/png": "[encoded data removed]",
      "text/plain": [
       "<Figure size 1008x576 with 2 Axes>"
      ]
     },
     "metadata": {
      "needs_background": "light"
     },
     "output_type": "display_data"
    }
   ],
   "source": [
    "fig, ax =plt.subplots(nrows=1, ncols=2, figsize=(14,8))\n",
    "\n",
    "# using a histogram\n",
    "sns.histplot(df[\"residuals\"], stat = 'frequency', color = \"orange\", kde=True, ax=ax[0])\n",
    "ax[0].set_ylabel(\"Frequency\", fontsize=16)\n",
    "ax[0].set_xlabel(\"Residuals\", fontsize=16)\n",
    "ax[0].set_title(\"Distribution of Residuals\", fontsize=18)\n",
    "\n",
    "# using a q-q plot \n",
    "stats.probplot(df[\"residuals\"], plot=ax[1])\n",
    "ax[1].set_ylabel(\"Observed Values\", fontsize=16)\n",
    "ax[1].set_xlabel(\"Theoretical quantiles\", fontsize=16)\n",
    "ax[1].set_title(\"Probability Plot\", fontsize=18)\n",
    "\n",
    "fig.suptitle(\"Normality of Residuals\", fontsize=20)\n",
    "\n",
    "plt.show()"
   ]
  },
  {
   "attachments": {},
   "cell_type": "markdown",
   "metadata": {},
   "source": [
    "* Using Statistical Test\n",
    "\n",
    "We can use statistical test such as Shapiro-Wilk Test and the Kolmogorov-Smirnov test to test for normality of residuals."
   ]
  },
  {
   "cell_type": "code",
   "execution_count": 39,
   "metadata": {},
   "outputs": [
    {
     "name": "stdout",
     "output_type": "stream",
     "text": [
      "statistic = 0.981, p-value = 0.165\n",
      "Fail to reject the null hypothesis and conclude that residuals are normally distributed.\n"
     ]
    }
   ],
   "source": [
    "# using shapiro-wilk test \n",
    "stat, p = stats.shapiro(df[\"residuals\"])\n",
    "print(f\"statistic = {np.round(stat,3)}, p-value = {np.round(p,3)}\")\n",
    "alpha = 0.05\n",
    "if p > alpha:\n",
    "    print(\"Fail to reject the null hypothesis and conclude that residuals are normally distributed.\")\n",
    "else:\n",
    "    print(\"Reject the null hypothesis and conclude that residuals are not normally distributed.\")"
   ]
  },
  {
   "cell_type": "code",
   "execution_count": 40,
   "metadata": {},
   "outputs": [
    {
     "name": "stdout",
     "output_type": "stream",
     "text": [
      "statistic = 0.063, p-value = 0.801\n",
      "Fail to reject the null hypothesis and conclude that residuals are normally distributed.\n"
     ]
    }
   ],
   "source": [
    "# using Kolmogorov-Smirnov test \n",
    "stat, p = stats.kstest(df[\"residuals\"], 'norm')\n",
    "print(f\"statistic = {np.round(stat,3)}, p-value = {np.round(p,3)}\")\n",
    "alpha = 0.05\n",
    "if p > alpha:\n",
    "    print(\"Fail to reject the null hypothesis and conclude that residuals are normally distributed.\")\n",
    "else:\n",
    "    print(\"Reject the null hypothesis and conclude that residuals are not normally distributed.\")"
   ]
  },
  {
   "attachments": {},
   "cell_type": "markdown",
   "metadata": {},
   "source": [
    "4. **Independece of Observation**\n",
    "\n",
    "The residual errors should be independent and not auto-correlated. The predicted residuals should tell nothing about the observed residuals(*the difference between the actual values of the dependent variables and the mean value of the dependent variables*).\n",
    "\n"
   ]
  },
  {
   "attachments": {},
   "cell_type": "markdown",
   "metadata": {},
   "source": [
    "* Using Visualization\n",
    "\n",
    "Examine the residuals by plotting them aganist predicted values(*fitted values*) or the independent variables. "
   ]
  },
  {
   "cell_type": "code",
   "execution_count": 41,
   "metadata": {},
   "outputs": [
    {
     "data": {
      "text/html": [
       "<div>\n",
       "<style scoped>\n",
       "    .dataframe tbody tr th:only-of-type {\n",
       "        vertical-align: middle;\n",
       "    }\n",
       "\n",
       "    .dataframe tbody tr th {\n",
       "        vertical-align: top;\n",
       "    }\n",
       "\n",
       "    .dataframe thead th {\n",
       "        text-align: right;\n",
       "    }\n",
       "</style>\n",
       "<table border=\"1\" class=\"dataframe\">\n",
       "  <thead>\n",
       "    <tr style=\"text-align: right;\">\n",
       "      <th></th>\n",
       "      <th>X</th>\n",
       "      <th>Y</th>\n",
       "      <th>Predicted</th>\n",
       "      <th>residuals</th>\n",
       "    </tr>\n",
       "  </thead>\n",
       "  <tbody>\n",
       "    <tr>\n",
       "      <th>0</th>\n",
       "      <td>0.496714</td>\n",
       "      <td>-0.421942</td>\n",
       "      <td>0.929698</td>\n",
       "      <td>-1.351641</td>\n",
       "    </tr>\n",
       "    <tr>\n",
       "      <th>1</th>\n",
       "      <td>-0.138264</td>\n",
       "      <td>-0.697174</td>\n",
       "      <td>-0.249293</td>\n",
       "      <td>-0.447881</td>\n",
       "    </tr>\n",
       "    <tr>\n",
       "      <th>2</th>\n",
       "      <td>0.647689</td>\n",
       "      <td>0.952663</td>\n",
       "      <td>1.210019</td>\n",
       "      <td>-0.257356</td>\n",
       "    </tr>\n",
       "    <tr>\n",
       "      <th>3</th>\n",
       "      <td>1.523030</td>\n",
       "      <td>2.243782</td>\n",
       "      <td>2.835303</td>\n",
       "      <td>-0.591520</td>\n",
       "    </tr>\n",
       "    <tr>\n",
       "      <th>4</th>\n",
       "      <td>-0.234153</td>\n",
       "      <td>-0.629592</td>\n",
       "      <td>-0.427335</td>\n",
       "      <td>-0.202258</td>\n",
       "    </tr>\n",
       "  </tbody>\n",
       "</table>\n",
       "</div>"
      ],
      "text/plain": [
       "          X         Y  Predicted  residuals\n",
       "0  0.496714 -0.421942   0.929698  -1.351641\n",
       "1 -0.138264 -0.697174  -0.249293  -0.447881\n",
       "2  0.647689  0.952663   1.210019  -0.257356\n",
       "3  1.523030  2.243782   2.835303  -0.591520\n",
       "4 -0.234153 -0.629592  -0.427335  -0.202258"
      ]
     },
     "execution_count": 41,
     "metadata": {},
     "output_type": "execute_result"
    }
   ],
   "source": [
    "df.head()"
   ]
  },
  {
   "cell_type": "code",
   "execution_count": 78,
   "metadata": {},
   "outputs": [
    {
     "data": {
      "image/png": "[encoded data removed]",
      "text/plain": [
       "<Figure size 1008x576 with 2 Axes>"
      ]
     },
     "metadata": {
      "needs_background": "light"
     },
     "output_type": "display_data"
    }
   ],
   "source": [
    "fig, ax =plt.subplots(nrows=1, ncols=2, figsize=(14,8))\n",
    "\n",
    "# using predicted values\n",
    "sns.scatterplot(x=df[\"Predicted\"], y=df[\"residuals\"], color = \"orange\",  ax=ax[0])\n",
    "ax[0].axhline(y=0, color='r', linestyle='-')\n",
    "ax[0].set_ylabel(\"Residuals\", fontsize=16)\n",
    "ax[0].set_xlabel(\"Predicted Values\", fontsize=16)\n",
    "ax[0].set_title(\"Residuals vs Predicted Values\", fontsize=18)\n",
    "\n",
    "# using independent variables \n",
    "sns.scatterplot(x=df[\"X\"], y=df[\"residuals\"], color = \"blue\", ax=ax[1])\n",
    "ax[1].axhline(y=0, color='r', linestyle='-')\n",
    "ax[1].set_ylabel(\"Residuals\", fontsize=16)\n",
    "ax[1].set_xlabel(\"X(Independent Variable)\", fontsize=16)\n",
    "ax[1].set_title(\"Residuals vs Independent Variable\", fontsize=18)\n",
    "\n",
    "fig.suptitle(\"Independence of Observations\", fontsize=20)\n",
    "\n",
    "plt.show()"
   ]
  },
  {
   "attachments": {},
   "cell_type": "markdown",
   "metadata": {},
   "source": [
    "* Is there any relationship between the predicted values and the residuals?"
   ]
  },
  {
   "attachments": {},
   "cell_type": "markdown",
   "metadata": {},
   "source": [
    "* Use Statistical Test\n",
    "\n",
    "Use a Durbin-Watson Test for independence of errors. The durbin-watson statistic, which ranges from 0 to 4 should be close to 2 and values ```1 <= x => 3``` are a problem. "
   ]
  },
  {
   "cell_type": "code",
   "execution_count": 43,
   "metadata": {},
   "outputs": [
    {
     "name": "stdout",
     "output_type": "stream",
     "text": [
      "Durbin-Wason statistic: 2.194366320541567\n"
     ]
    }
   ],
   "source": [
    "# performing durbin-watson test \n",
    "durbin_watson_statistic = sm.stats.stattools.durbin_watson(df[\"residuals\"])\n",
    "print(\"Durbin-Wason statistic:\", durbin_watson_statistic)"
   ]
  },
  {
   "attachments": {},
   "cell_type": "markdown",
   "metadata": {},
   "source": [
    "5. **Homoscedasticity** - The variance of the residual errors is the same across all values of the predictor. Indicates the variability of the residuals is consistent and model is reliable for making predictions. Residuals showing a pattern of increasing or decreasing spread with prediced values indicates model not apprpriate for the data."
   ]
  },
  {
   "cell_type": "code",
   "execution_count": 44,
   "metadata": {},
   "outputs": [
    {
     "data": {
      "text/html": [
       "<div>\n",
       "<style scoped>\n",
       "    .dataframe tbody tr th:only-of-type {\n",
       "        vertical-align: middle;\n",
       "    }\n",
       "\n",
       "    .dataframe tbody tr th {\n",
       "        vertical-align: top;\n",
       "    }\n",
       "\n",
       "    .dataframe thead th {\n",
       "        text-align: right;\n",
       "    }\n",
       "</style>\n",
       "<table border=\"1\" class=\"dataframe\">\n",
       "  <thead>\n",
       "    <tr style=\"text-align: right;\">\n",
       "      <th></th>\n",
       "      <th>X</th>\n",
       "      <th>Y</th>\n",
       "      <th>Predicted</th>\n",
       "      <th>residuals</th>\n",
       "    </tr>\n",
       "  </thead>\n",
       "  <tbody>\n",
       "    <tr>\n",
       "      <th>0</th>\n",
       "      <td>0.496714</td>\n",
       "      <td>-0.421942</td>\n",
       "      <td>0.929698</td>\n",
       "      <td>-1.351641</td>\n",
       "    </tr>\n",
       "    <tr>\n",
       "      <th>1</th>\n",
       "      <td>-0.138264</td>\n",
       "      <td>-0.697174</td>\n",
       "      <td>-0.249293</td>\n",
       "      <td>-0.447881</td>\n",
       "    </tr>\n",
       "    <tr>\n",
       "      <th>2</th>\n",
       "      <td>0.647689</td>\n",
       "      <td>0.952663</td>\n",
       "      <td>1.210019</td>\n",
       "      <td>-0.257356</td>\n",
       "    </tr>\n",
       "    <tr>\n",
       "      <th>3</th>\n",
       "      <td>1.523030</td>\n",
       "      <td>2.243782</td>\n",
       "      <td>2.835303</td>\n",
       "      <td>-0.591520</td>\n",
       "    </tr>\n",
       "    <tr>\n",
       "      <th>4</th>\n",
       "      <td>-0.234153</td>\n",
       "      <td>-0.629592</td>\n",
       "      <td>-0.427335</td>\n",
       "      <td>-0.202258</td>\n",
       "    </tr>\n",
       "  </tbody>\n",
       "</table>\n",
       "</div>"
      ],
      "text/plain": [
       "          X         Y  Predicted  residuals\n",
       "0  0.496714 -0.421942   0.929698  -1.351641\n",
       "1 -0.138264 -0.697174  -0.249293  -0.447881\n",
       "2  0.647689  0.952663   1.210019  -0.257356\n",
       "3  1.523030  2.243782   2.835303  -0.591520\n",
       "4 -0.234153 -0.629592  -0.427335  -0.202258"
      ]
     },
     "execution_count": 44,
     "metadata": {},
     "output_type": "execute_result"
    }
   ],
   "source": [
    "# preview our data \n",
    "df.head()"
   ]
  },
  {
   "attachments": {},
   "cell_type": "markdown",
   "metadata": {},
   "source": [
    "* Using a scatterplot \n",
    "\n",
    "Plot a scatter plot of the standardized residual errors aganist the predicted errors.\n",
    "\n",
    "If the scatterplot shows a random pattern with no clear trend, it suggests that the residuals are homoscedastic.\n",
    "\n",
    "If there is a clear pattern, such as *funnel shape*, or a *U-shape*, it suggests that the residuals have a non-constant variance."
   ]
  },
  {
   "cell_type": "code",
   "execution_count": 45,
   "metadata": {},
   "outputs": [],
   "source": [
    "# calculate the mean and standard deviation of residuals\n",
    "residuals_mean = np.mean(df[\"residuals\"])\n",
    "residuals_std = np.std(df[\"residuals\"], ddof=1) # ddof = 1 compute the unbiased sample standard deviation"
   ]
  },
  {
   "cell_type": "code",
   "execution_count": 46,
   "metadata": {},
   "outputs": [],
   "source": [
    "# calculate the standardized residuals\n",
    "df[\"std_resid\"] = df[\"residuals\"] / residuals_std"
   ]
  },
  {
   "attachments": {},
   "cell_type": "markdown",
   "metadata": {},
   "source": [
    "<details>\n",
    "    <summary>Why standardized residuals?</summary>\n",
    "\n",
    "    * Typically use standardized residuals rather than raw residuals because standardized residuals have the same scale for all observations and are therefore more comparable across the range of predicted values.\n",
    "    * Standardizing the residuals by dividing them by their estimated standard deviation can help to remove the effect of changing variance and make it easier to detect patterns or trends in the scatterplot that suggest heteroscedasticity.\n",
    "</details>    "
   ]
  },
  {
   "cell_type": "code",
   "execution_count": 47,
   "metadata": {},
   "outputs": [
    {
     "data": {
      "text/html": [
       "<div>\n",
       "<style scoped>\n",
       "    .dataframe tbody tr th:only-of-type {\n",
       "        vertical-align: middle;\n",
       "    }\n",
       "\n",
       "    .dataframe tbody tr th {\n",
       "        vertical-align: top;\n",
       "    }\n",
       "\n",
       "    .dataframe thead th {\n",
       "        text-align: right;\n",
       "    }\n",
       "</style>\n",
       "<table border=\"1\" class=\"dataframe\">\n",
       "  <thead>\n",
       "    <tr style=\"text-align: right;\">\n",
       "      <th></th>\n",
       "      <th>X</th>\n",
       "      <th>Y</th>\n",
       "      <th>Predicted</th>\n",
       "      <th>residuals</th>\n",
       "      <th>std_resid</th>\n",
       "    </tr>\n",
       "  </thead>\n",
       "  <tbody>\n",
       "    <tr>\n",
       "      <th>0</th>\n",
       "      <td>0.496714</td>\n",
       "      <td>-0.421942</td>\n",
       "      <td>0.929698</td>\n",
       "      <td>-1.351641</td>\n",
       "      <td>-1.430682</td>\n",
       "    </tr>\n",
       "    <tr>\n",
       "      <th>1</th>\n",
       "      <td>-0.138264</td>\n",
       "      <td>-0.697174</td>\n",
       "      <td>-0.249293</td>\n",
       "      <td>-0.447881</td>\n",
       "      <td>-0.474072</td>\n",
       "    </tr>\n",
       "    <tr>\n",
       "      <th>2</th>\n",
       "      <td>0.647689</td>\n",
       "      <td>0.952663</td>\n",
       "      <td>1.210019</td>\n",
       "      <td>-0.257356</td>\n",
       "      <td>-0.272406</td>\n",
       "    </tr>\n",
       "    <tr>\n",
       "      <th>3</th>\n",
       "      <td>1.523030</td>\n",
       "      <td>2.243782</td>\n",
       "      <td>2.835303</td>\n",
       "      <td>-0.591520</td>\n",
       "      <td>-0.626111</td>\n",
       "    </tr>\n",
       "    <tr>\n",
       "      <th>4</th>\n",
       "      <td>-0.234153</td>\n",
       "      <td>-0.629592</td>\n",
       "      <td>-0.427335</td>\n",
       "      <td>-0.202258</td>\n",
       "      <td>-0.214085</td>\n",
       "    </tr>\n",
       "  </tbody>\n",
       "</table>\n",
       "</div>"
      ],
      "text/plain": [
       "          X         Y  Predicted  residuals  std_resid\n",
       "0  0.496714 -0.421942   0.929698  -1.351641  -1.430682\n",
       "1 -0.138264 -0.697174  -0.249293  -0.447881  -0.474072\n",
       "2  0.647689  0.952663   1.210019  -0.257356  -0.272406\n",
       "3  1.523030  2.243782   2.835303  -0.591520  -0.626111\n",
       "4 -0.234153 -0.629592  -0.427335  -0.202258  -0.214085"
      ]
     },
     "execution_count": 47,
     "metadata": {},
     "output_type": "execute_result"
    }
   ],
   "source": [
    "# preview the data \n",
    "df.head()"
   ]
  },
  {
   "cell_type": "code",
   "execution_count": 48,
   "metadata": {},
   "outputs": [
    {
     "data": {
      "image/png": "[encoded data removed]",
      "text/plain": [
       "<Figure size 648x504 with 1 Axes>"
      ]
     },
     "metadata": {
      "needs_background": "light"
     },
     "output_type": "display_data"
    }
   ],
   "source": [
    "# visualize\n",
    "fig, ax = plt.subplots(figsize=(9,7))\n",
    "\n",
    "sns.scatterplot(x=df[\"Predicted\"], y=df[\"std_resid\"], color=\"orange\", ax=ax)\n",
    "ax.set_ylabel(\"Standardized Residuals\", fontsize=16)\n",
    "ax.set_xlabel(\"Predicted Values\", fontsize=16)\n",
    "ax.set_title(\"Standardized Residuals aganist Predicted Values\", fontsize=18)\n",
    "\n",
    "plt.show()"
   ]
  },
  {
   "attachments": {},
   "cell_type": "markdown",
   "metadata": {},
   "source": [
    "## Visualization of Errors\n",
    "\n",
    "One way to visualize errors in a linear regression model is by plotting a scatterplot of the predicted values versus the actual values, with errors represented by the vertical distance between each point and the regression line(**Residual Plot**)."
   ]
  },
  {
   "attachments": {},
   "cell_type": "markdown",
   "metadata": {},
   "source": [
    "### Centering / Mean-Centering\n",
    "\n",
    "* Adjusting the X so that the intercept term of the best-fit line will be 0\n",
    "* Involves subtracting the mean of the predictor variable from each observation of that variable.\n",
    "<details>\n",
    "    <summary> What's the purpose? </summary>\n",
    "    \n",
    "        * To shift the data so that the intercept of the regression line represents the predicted value of the dependent variable when all the predictor variables are equal to their means.\n",
    "        \n",
    "        * Example where useful;- Interpreting the intercept as a meaningful value or when comparing the intercepts of different models.\n",
    "</details>"
   ]
  },
  {
   "attachments": {},
   "cell_type": "markdown",
   "metadata": {},
   "source": [
    "* Centering the data can be useful in situations where the intercept term is not meaningful or relevant. Example, in some scientific studies, the relationship between two variables may be of interest only when one variable is at a specific value, ie, the intercept term is not meaningful. By centering the data, we can remove the intercept term from the regression equation and focus solely on the relationship between variables.\n",
    "\n",
    "* Centering also helps to improve the interpretability of regression coefficients. When X is not centered, the interpretation of the regression coefficients can be difficult because they are affected by the scaling of X variable. By centering X, the interpretation of the regression coefficients becomes more straightfoward because they represent the change in the dependent variable for a one-unit change in the independent variable when the independent variable is at its mean."
   ]
  },
  {
   "attachments": {},
   "cell_type": "markdown",
   "metadata": {},
   "source": [
    "Suppose you are analyzing the relationship between the numbers of hours spent studying and the grade received on an exam. You collect data from a group of students, and after fitting a linear regression model, you find that the intercept term is not statistically significant, indicating that there is no relationship between the grade and the number of hours studied. However, it is possible that the intercept term is not statistically significant simply because the data is not centered around zero. In this case, you could adjust the X variable(number of hours studied) by subtracting the mean value of X from each observation, so that the intercept term of the best-fit line will be 0. By doing so, you may find the relationship between the number of hours studied and the grade received becomes statistically significant. "
   ]
  },
  {
   "cell_type": "code",
   "execution_count": 49,
   "metadata": {},
   "outputs": [],
   "source": [
    "# generate simulated data \n",
    "hours_studied = np.random.normal(loc=10, scale=2, size=100)\n",
    "grades_received = 60 + 5 * hours_studied + np.random.normal(scale=10, size=100)"
   ]
  },
  {
   "cell_type": "code",
   "execution_count": 50,
   "metadata": {},
   "outputs": [
    {
     "data": {
      "text/plain": [
       "array([10.71557472, 11.12156905, 12.16610249, 12.1076041 ,  7.24466126,\n",
       "        8.12434992, 11.03007053, 11.0275719 , 11.03009537, 17.70546298,\n",
       "       11.14178102, 12.27113128, 11.90800353, 11.3027825 ,  9.36946151,\n",
       "       11.51793844,  8.45434957,  9.52636279,  9.0292729 , 10.16374828,\n",
       "       14.62931713,  6.26546961, 11.37252038,  6.77456826,  9.05613627,\n",
       "       12.17790119, 10.12856004,  7.84451044,  8.56939258, 11.3591955 ,\n",
       "        8.53926674, 10.43291718, 10.09114368,  8.6967993 , 14.28788818,\n",
       "       11.26783804,  5.94971483, 10.37290863,  8.67642707, 11.70486667,\n",
       "        8.41495852,  9.77052712, 11.00997456, 11.73151039,  7.59940719,\n",
       "        9.33099753,  9.05010938,  8.69334153, 13.53090848, 10.80996342,\n",
       "        7.47823209, 11.83572389, 14.24431239, 12.06493052,  6.96126007,\n",
       "        9.03153185, 12.5338223 ,  8.58466107, 10.88763886, 11.54926811,\n",
       "        8.14613906,  9.88094929,  3.51746532,  7.95122472,  9.4948637 ,\n",
       "        7.50443364, 13.26482261,  7.13971724,  9.11991103, 10.26148115,\n",
       "       12.88254658,  7.1282757 , 12.3263275 , 10.02046612,  8.0369827 ,\n",
       "       10.92420695, 10.39811939,  8.79956625, 10.13960417,  9.22937281,\n",
       "       10.22703469, 11.32426135, 13.17203363,  7.524369  , 14.26606675,\n",
       "        6.0958244 ,  9.69642981, 11.17663441, 10.56198374,  8.75460096,\n",
       "        9.5837555 ,  9.01399813,  8.82127049, 11.69920419, 10.71403097,\n",
       "        8.61418081, 11.79919975, 10.61459904, 11.62572424, 11.25925768])"
      ]
     },
     "execution_count": 50,
     "metadata": {},
     "output_type": "execute_result"
    }
   ],
   "source": [
    "# preview the data \n",
    "hours_studied"
   ]
  },
  {
   "cell_type": "code",
   "execution_count": 51,
   "metadata": {},
   "outputs": [
    {
     "data": {
      "text/plain": [
       "array([105.28792349, 110.00603486, 128.30344848, 126.64172317,\n",
       "        96.01429038, 101.79502343, 127.92700163, 109.22214562,\n",
       "       120.62145067, 146.50538838, 113.53209307, 132.34342492,\n",
       "       127.79418112, 124.64900887, 119.90209563, 117.79973062,\n",
       "       109.09127757, 104.52914637, 108.38802805, 109.51731085,\n",
       "       134.11654532,  97.27891833, 108.68039507, 114.79671404,\n",
       "        95.22050753, 108.74761984, 122.22390893, 107.13917916,\n",
       "       109.08816108, 123.07943258, 102.57386595, 103.19204218,\n",
       "       111.21376398,  96.71237941, 141.19063823, 114.86861641,\n",
       "        81.49360217, 108.65068473, 107.5114499 , 112.88708782,\n",
       "        93.85258866, 111.2895077 , 117.4995385 , 113.58812019,\n",
       "        93.28665287, 108.97548702,  90.76970347,  89.39206993,\n",
       "       120.47010019, 111.91534559, 100.50023611, 133.93218164,\n",
       "       139.7981582 , 118.72526731,  94.61613826,  95.13236562,\n",
       "       122.48398013, 100.03671895, 117.66537988, 109.4740311 ,\n",
       "       105.92416043, 124.73213557,  76.49972511, 103.77324081,\n",
       "       114.3757584 ,  93.50996346, 128.56503786,  95.82451023,\n",
       "       106.57631612, 103.57730793, 124.65783463, 100.6213614 ,\n",
       "       136.1430736 , 119.69503887, 121.71673806, 106.94755911,\n",
       "       120.71380332, 105.83125129, 132.59605018,  98.06388118,\n",
       "       102.73795503, 110.62738029, 104.62121092,  92.36429479,\n",
       "       123.73900713,  91.98305987, 111.89970881, 134.64488046,\n",
       "       122.31415706,  98.00396825,  98.93463078, 109.98918237,\n",
       "        90.90402036, 136.81060863, 125.36455607,  98.37914753,\n",
       "       101.86465346, 126.61171895, 116.98322274, 128.67445154])"
      ]
     },
     "execution_count": 51,
     "metadata": {},
     "output_type": "execute_result"
    }
   ],
   "source": [
    "grades_received"
   ]
  },
  {
   "cell_type": "code",
   "execution_count": 58,
   "metadata": {},
   "outputs": [
    {
     "name": "stdout",
     "output_type": "stream",
     "text": [
      "slope: 4.999\n",
      "intercept: 61.079\n",
      "R-value: 0.775\n",
      "P-value: 3.050982370316499e-21\n",
      "Standard Error: 0.412\n"
     ]
    }
   ],
   "source": [
    "from scipy.stats import linregress\n",
    "\n",
    "# fit a linear regression model \n",
    "slope, intercept, r_value, p_value, stderr = linregress(hours_studied, grades_received)\n",
    "\n",
    "print(f\"slope: {np.round(slope,3)}\")\n",
    "print(f\"intercept: {np.round(intercept,3)}\")\n",
    "print(f\"R-value: {np.round(r_value,3)}\")\n",
    "print(f\"P-value: {p_value}\")\n",
    "print(f\"Standard Error: {np.round(stderr,3)}\")"
   ]
  },
  {
   "attachments": {},
   "cell_type": "markdown",
   "metadata": {},
   "source": [
    "The intercept term is statistically significant, indicating that there is a relationship between the number of hours studied and grade received.\n",
    "\n",
    "Adjust the ```hours_studied``` variable by subtracting the mean value of ```hours_studied``` from each observation;"
   ]
  },
  {
   "cell_type": "code",
   "execution_count": 62,
   "metadata": {},
   "outputs": [
    {
     "data": {
      "text/plain": [
       "array([ 5.85782214e-01,  9.91776547e-01,  2.03630998e+00,  1.97781160e+00,\n",
       "       -2.88513124e+00, -2.00544259e+00,  9.00278028e-01,  8.97779396e-01,\n",
       "        9.00302866e-01,  7.57567048e+00,  1.01198852e+00,  2.14133877e+00,\n",
       "        1.77821102e+00,  1.17299000e+00, -7.60330995e-01,  1.38814593e+00,\n",
       "       -1.67544294e+00, -6.03429720e-01, -1.10051960e+00,  3.39557726e-02,\n",
       "        4.49952463e+00, -3.86432289e+00,  1.24272787e+00, -3.35522425e+00,\n",
       "       -1.07365624e+00,  2.04810869e+00, -1.23246801e-03, -2.28528206e+00,\n",
       "       -1.56039992e+00,  1.22940299e+00, -1.59052577e+00,  3.03124673e-01,\n",
       "       -3.86488264e-02, -1.43299320e+00,  4.15809567e+00,  1.13804554e+00,\n",
       "       -4.18007768e+00,  2.43116123e-01, -1.45336544e+00,  1.57507416e+00,\n",
       "       -1.71483398e+00, -3.59265389e-01,  8.80182052e-01,  1.60171788e+00,\n",
       "       -2.53038532e+00, -7.98794978e-01, -1.07968313e+00, -1.43645097e+00,\n",
       "        3.40111597e+00,  6.80170916e-01, -2.65156041e+00,  1.70593139e+00,\n",
       "        4.11451989e+00,  1.93513801e+00, -3.16853244e+00, -1.09826065e+00,\n",
       "        2.40402979e+00, -1.54513144e+00,  7.57846350e-01,  1.41947560e+00,\n",
       "       -1.98365345e+00, -2.48843218e-01, -6.61232719e+00, -2.17856779e+00,\n",
       "       -6.34928809e-01, -2.62535887e+00,  3.13503010e+00, -2.99007526e+00,\n",
       "       -1.00988148e+00,  1.31688648e-01,  2.75275407e+00, -3.00151681e+00,\n",
       "        2.19653500e+00, -1.09326384e-01, -2.09280981e+00,  7.94414442e-01,\n",
       "        2.68326885e-01, -1.33022626e+00,  9.81166378e-03, -9.00419700e-01,\n",
       "        9.72421843e-02,  1.19446884e+00,  3.04224113e+00, -2.60542350e+00,\n",
       "        4.13627424e+00, -4.03396811e+00, -4.33362696e-01,  1.04684191e+00,\n",
       "        4.32191229e-01, -1.37519155e+00, -5.46037007e-01, -1.11579438e+00,\n",
       "       -1.30852202e+00,  1.56941169e+00,  5.84238466e-01, -1.51561170e+00,\n",
       "        1.66940724e+00,  4.84806536e-01,  1.49593173e+00,  1.12946518e+00])"
      ]
     },
     "execution_count": 62,
     "metadata": {},
     "output_type": "execute_result"
    }
   ],
   "source": [
    "# adjust hours studied variable\n",
    "hours_studied_adj = hours_studied - np.mean(hours_studied)\n",
    "\n",
    "hours_studied_adj"
   ]
  },
  {
   "cell_type": "code",
   "execution_count": 63,
   "metadata": {},
   "outputs": [
    {
     "name": "stdout",
     "output_type": "stream",
     "text": [
      "slope: 4.999\n",
      "intercept: 111.717\n",
      "R-value: 0.775\n",
      "P-value: 3.0509823703164343e-21\n",
      "Standard Error: 0.412\n"
     ]
    }
   ],
   "source": [
    "# fit a linear regression model with adjusted hours studied variable\n",
    "slope, intercept_adj, r_value, p_value, stderr = linregress(hours_studied_adj, grades_received)\n",
    "\n",
    "print(f\"slope: {np.round(slope,3)}\")\n",
    "print(f\"intercept: {np.round(intercept_adj,3)}\")\n",
    "print(f\"R-value: {np.round(r_value,3)}\")\n",
    "print(f\"P-value: {p_value}\")\n",
    "print(f\"Standard Error: {np.round(stderr,3)}\")"
   ]
  },
  {
   "attachments": {},
   "cell_type": "markdown",
   "metadata": {},
   "source": [
    "By subtracting the mean of the hours studied variable from each observation, the data is centered around 0. The intercept of the best-fit line now represents the predicted value of the response variable(grade received) when the predictor variable(hours studied) is equal to 0, which may or not be meaningful depending on the context of the problem.\n",
    "\n",
    "```The adjusted intercept of 111.717 means that the predicted grade received when a student does not study at all is 111.717, which is likely not meaningful in the context of this problem.```"
   ]
  },
  {
   "cell_type": "code",
   "execution_count": 77,
   "metadata": {},
   "outputs": [
    {
     "data": {
      "image/png": "[encoded data removed]",
      "text/plain": [
       "<Figure size 1008x576 with 2 Axes>"
      ]
     },
     "metadata": {
      "needs_background": "light"
     },
     "output_type": "display_data"
    }
   ],
   "source": [
    "fig, ax =plt.subplots(nrows=1, ncols=2, figsize=(14,8))\n",
    "\n",
    "# scatter plot with hours studied\n",
    "sns.scatterplot(x=hours_studied, y=grades_received, color = \"orange\",  ax=ax[0])\n",
    "ax[0].set_ylabel(\"Grades Received\", fontsize=16)\n",
    "ax[0].set_xlabel(\"Hours Studied\", fontsize=16)\n",
    "ax[0].set_title(\"Orginal Data\", fontsize=18)\n",
    "\n",
    "# Scatter plot with adjusted hours studied\n",
    "sns.scatterplot(x=hours_studied_adj, y=grades_received, color = \"blue\", ax=ax[1])\n",
    "ax[1].set_ylabel(\"Grades Received\", fontsize=16)\n",
    "ax[1].set_xlabel(\"Adjusted Hours Studied\", fontsize=16)\n",
    "ax[1].set_title(\"Mean Centered Data\", fontsize=18)\n",
    "\n",
    "fig.suptitle(\"Centering/Mean-Centering\", fontsize=20)\n",
    "\n",
    "plt.show()"
   ]
  }
 ],
 "metadata": {
  "kernelspec": {
   "display_name": "Python 3",
   "language": "python",
   "name": "python3"
  },
  "language_info": {
   "codemirror_mode": {
    "name": "ipython",
    "version": 3
   },
   "file_extension": ".py",
   "mimetype": "text/x-python",
   "name": "python",
   "nbconvert_exporter": "python",
   "pygments_lexer": "ipython3",
   "version": "3.10.10"
  },
  "orig_nbformat": 4,
  "vscode": {
   "interpreter": {
    "hash": "e7370f93d1d0cde622a1f8e1c04877d8463912d04d973331ad4851f04de6915a"
   }
  }
 },
 "nbformat": 4,
 "nbformat_minor": 2
}
